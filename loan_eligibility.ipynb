{
  "nbformat": 4,
  "nbformat_minor": 0,
  "metadata": {
    "colab": {
      "name": "loan_eligibility.ipynb",
      "provenance": [],
      "collapsed_sections": [],
      "mount_file_id": "1NlYSNhlHdHkclJnL42UeRaXXEBC7cVOI",
      "authorship_tag": "ABX9TyPktbLMUqcwWQNJt58UqHbF",
      "include_colab_link": true
    },
    "kernelspec": {
      "name": "python3",
      "display_name": "Python 3"
    },
    "language_info": {
      "name": "python"
    }
  },
  "cells": [
    {
      "cell_type": "markdown",
      "metadata": {
        "id": "view-in-github",
        "colab_type": "text"
      },
      "source": [
        "<a href=\"https://colab.research.google.com/github/Hariomsmit/Loan_Eligibility_prediction_using_machinelearning/blob/main/loan_eligibility.ipynb\" target=\"_parent\"><img src=\"https://colab.research.google.com/assets/colab-badge.svg\" alt=\"Open In Colab\"/></a>"
      ]
    },
    {
      "cell_type": "markdown",
      "source": [
        "#AUTHOR - HARIOM\n",
        "#ABHYUDAY IIT BOMBAY SUMMER TRAINING PROJECT\n",
        "#TITLE : LOAN ELIGIBILITY PREDICTION USING LEARNING\n"
      ],
      "metadata": {
        "id": "NUnXkH9Q-OZd"
      }
    },
    {
      "cell_type": "markdown",
      "source": [
        "Importing required libraries"
      ],
      "metadata": {
        "id": "6-FziebX-V2i"
      }
    },
    {
      "cell_type": "code",
      "execution_count": 1,
      "metadata": {
        "id": "vx6qZ9ft-GX5"
      },
      "outputs": [],
      "source": [
        "import pandas as pd\n",
        "import matplotlib.pyplot as plt\n",
        "import seaborn as sns\n",
        "import numpy as np\n",
        "from scipy.stats import norm\n",
        "from sklearn.preprocessing import StandardScaler\n",
        "from scipy import stats\n",
        "import warnings\n",
        "warnings.filterwarnings('ignore')\n",
        "%matplotlib inline"
      ]
    },
    {
      "cell_type": "markdown",
      "source": [
        "Importing Training Data"
      ],
      "metadata": {
        "id": "LOomSIbK-kCZ"
      }
    },
    {
      "cell_type": "code",
      "source": [
        "df_train = pd.read_csv(\"/content/train.csv\")"
      ],
      "metadata": {
        "id": "6u8cnHVL-nif"
      },
      "execution_count": 2,
      "outputs": []
    },
    {
      "cell_type": "markdown",
      "source": [
        "Looking for first 5 rows of imported dataset"
      ],
      "metadata": {
        "id": "4XC3KuMe_fxi"
      }
    },
    {
      "cell_type": "code",
      "source": [
        "df_train.head()"
      ],
      "metadata": {
        "colab": {
          "base_uri": "https://localhost:8080/",
          "height": 206
        },
        "id": "ZifzvRKY_mRV",
        "outputId": "f7f30850-cc6b-4d10-d65f-15c255b0fedc"
      },
      "execution_count": 3,
      "outputs": [
        {
          "output_type": "execute_result",
          "data": {
            "text/plain": [
              "    Loan_ID Gender Married Dependents     Education Self_Employed  \\\n",
              "0  LP001002   Male      No          0      Graduate            No   \n",
              "1  LP001003   Male     Yes          1      Graduate            No   \n",
              "2  LP001005   Male     Yes          0      Graduate           Yes   \n",
              "3  LP001006   Male     Yes          0  Not Graduate            No   \n",
              "4  LP001008   Male      No          0      Graduate            No   \n",
              "\n",
              "   ApplicantIncome  CoapplicantIncome  LoanAmount  Loan_Amount_Term  \\\n",
              "0             5849                0.0         NaN             360.0   \n",
              "1             4583             1508.0       128.0             360.0   \n",
              "2             3000                0.0        66.0             360.0   \n",
              "3             2583             2358.0       120.0             360.0   \n",
              "4             6000                0.0       141.0             360.0   \n",
              "\n",
              "   Credit_History Property_Area Loan_Status  \n",
              "0             1.0         Urban           Y  \n",
              "1             1.0         Rural           N  \n",
              "2             1.0         Urban           Y  \n",
              "3             1.0         Urban           Y  \n",
              "4             1.0         Urban           Y  "
            ],
            "text/html": [
              "\n",
              "  <div id=\"df-8a633502-b9d1-4e17-95e8-91eabba8885a\">\n",
              "    <div class=\"colab-df-container\">\n",
              "      <div>\n",
              "<style scoped>\n",
              "    .dataframe tbody tr th:only-of-type {\n",
              "        vertical-align: middle;\n",
              "    }\n",
              "\n",
              "    .dataframe tbody tr th {\n",
              "        vertical-align: top;\n",
              "    }\n",
              "\n",
              "    .dataframe thead th {\n",
              "        text-align: right;\n",
              "    }\n",
              "</style>\n",
              "<table border=\"1\" class=\"dataframe\">\n",
              "  <thead>\n",
              "    <tr style=\"text-align: right;\">\n",
              "      <th></th>\n",
              "      <th>Loan_ID</th>\n",
              "      <th>Gender</th>\n",
              "      <th>Married</th>\n",
              "      <th>Dependents</th>\n",
              "      <th>Education</th>\n",
              "      <th>Self_Employed</th>\n",
              "      <th>ApplicantIncome</th>\n",
              "      <th>CoapplicantIncome</th>\n",
              "      <th>LoanAmount</th>\n",
              "      <th>Loan_Amount_Term</th>\n",
              "      <th>Credit_History</th>\n",
              "      <th>Property_Area</th>\n",
              "      <th>Loan_Status</th>\n",
              "    </tr>\n",
              "  </thead>\n",
              "  <tbody>\n",
              "    <tr>\n",
              "      <th>0</th>\n",
              "      <td>LP001002</td>\n",
              "      <td>Male</td>\n",
              "      <td>No</td>\n",
              "      <td>0</td>\n",
              "      <td>Graduate</td>\n",
              "      <td>No</td>\n",
              "      <td>5849</td>\n",
              "      <td>0.0</td>\n",
              "      <td>NaN</td>\n",
              "      <td>360.0</td>\n",
              "      <td>1.0</td>\n",
              "      <td>Urban</td>\n",
              "      <td>Y</td>\n",
              "    </tr>\n",
              "    <tr>\n",
              "      <th>1</th>\n",
              "      <td>LP001003</td>\n",
              "      <td>Male</td>\n",
              "      <td>Yes</td>\n",
              "      <td>1</td>\n",
              "      <td>Graduate</td>\n",
              "      <td>No</td>\n",
              "      <td>4583</td>\n",
              "      <td>1508.0</td>\n",
              "      <td>128.0</td>\n",
              "      <td>360.0</td>\n",
              "      <td>1.0</td>\n",
              "      <td>Rural</td>\n",
              "      <td>N</td>\n",
              "    </tr>\n",
              "    <tr>\n",
              "      <th>2</th>\n",
              "      <td>LP001005</td>\n",
              "      <td>Male</td>\n",
              "      <td>Yes</td>\n",
              "      <td>0</td>\n",
              "      <td>Graduate</td>\n",
              "      <td>Yes</td>\n",
              "      <td>3000</td>\n",
              "      <td>0.0</td>\n",
              "      <td>66.0</td>\n",
              "      <td>360.0</td>\n",
              "      <td>1.0</td>\n",
              "      <td>Urban</td>\n",
              "      <td>Y</td>\n",
              "    </tr>\n",
              "    <tr>\n",
              "      <th>3</th>\n",
              "      <td>LP001006</td>\n",
              "      <td>Male</td>\n",
              "      <td>Yes</td>\n",
              "      <td>0</td>\n",
              "      <td>Not Graduate</td>\n",
              "      <td>No</td>\n",
              "      <td>2583</td>\n",
              "      <td>2358.0</td>\n",
              "      <td>120.0</td>\n",
              "      <td>360.0</td>\n",
              "      <td>1.0</td>\n",
              "      <td>Urban</td>\n",
              "      <td>Y</td>\n",
              "    </tr>\n",
              "    <tr>\n",
              "      <th>4</th>\n",
              "      <td>LP001008</td>\n",
              "      <td>Male</td>\n",
              "      <td>No</td>\n",
              "      <td>0</td>\n",
              "      <td>Graduate</td>\n",
              "      <td>No</td>\n",
              "      <td>6000</td>\n",
              "      <td>0.0</td>\n",
              "      <td>141.0</td>\n",
              "      <td>360.0</td>\n",
              "      <td>1.0</td>\n",
              "      <td>Urban</td>\n",
              "      <td>Y</td>\n",
              "    </tr>\n",
              "  </tbody>\n",
              "</table>\n",
              "</div>\n",
              "      <button class=\"colab-df-convert\" onclick=\"convertToInteractive('df-8a633502-b9d1-4e17-95e8-91eabba8885a')\"\n",
              "              title=\"Convert this dataframe to an interactive table.\"\n",
              "              style=\"display:none;\">\n",
              "        \n",
              "  <svg xmlns=\"http://www.w3.org/2000/svg\" height=\"24px\"viewBox=\"0 0 24 24\"\n",
              "       width=\"24px\">\n",
              "    <path d=\"M0 0h24v24H0V0z\" fill=\"none\"/>\n",
              "    <path d=\"M18.56 5.44l.94 2.06.94-2.06 2.06-.94-2.06-.94-.94-2.06-.94 2.06-2.06.94zm-11 1L8.5 8.5l.94-2.06 2.06-.94-2.06-.94L8.5 2.5l-.94 2.06-2.06.94zm10 10l.94 2.06.94-2.06 2.06-.94-2.06-.94-.94-2.06-.94 2.06-2.06.94z\"/><path d=\"M17.41 7.96l-1.37-1.37c-.4-.4-.92-.59-1.43-.59-.52 0-1.04.2-1.43.59L10.3 9.45l-7.72 7.72c-.78.78-.78 2.05 0 2.83L4 21.41c.39.39.9.59 1.41.59.51 0 1.02-.2 1.41-.59l7.78-7.78 2.81-2.81c.8-.78.8-2.07 0-2.86zM5.41 20L4 18.59l7.72-7.72 1.47 1.35L5.41 20z\"/>\n",
              "  </svg>\n",
              "      </button>\n",
              "      \n",
              "  <style>\n",
              "    .colab-df-container {\n",
              "      display:flex;\n",
              "      flex-wrap:wrap;\n",
              "      gap: 12px;\n",
              "    }\n",
              "\n",
              "    .colab-df-convert {\n",
              "      background-color: #E8F0FE;\n",
              "      border: none;\n",
              "      border-radius: 50%;\n",
              "      cursor: pointer;\n",
              "      display: none;\n",
              "      fill: #1967D2;\n",
              "      height: 32px;\n",
              "      padding: 0 0 0 0;\n",
              "      width: 32px;\n",
              "    }\n",
              "\n",
              "    .colab-df-convert:hover {\n",
              "      background-color: #E2EBFA;\n",
              "      box-shadow: 0px 1px 2px rgba(60, 64, 67, 0.3), 0px 1px 3px 1px rgba(60, 64, 67, 0.15);\n",
              "      fill: #174EA6;\n",
              "    }\n",
              "\n",
              "    [theme=dark] .colab-df-convert {\n",
              "      background-color: #3B4455;\n",
              "      fill: #D2E3FC;\n",
              "    }\n",
              "\n",
              "    [theme=dark] .colab-df-convert:hover {\n",
              "      background-color: #434B5C;\n",
              "      box-shadow: 0px 1px 3px 1px rgba(0, 0, 0, 0.15);\n",
              "      filter: drop-shadow(0px 1px 2px rgba(0, 0, 0, 0.3));\n",
              "      fill: #FFFFFF;\n",
              "    }\n",
              "  </style>\n",
              "\n",
              "      <script>\n",
              "        const buttonEl =\n",
              "          document.querySelector('#df-8a633502-b9d1-4e17-95e8-91eabba8885a button.colab-df-convert');\n",
              "        buttonEl.style.display =\n",
              "          google.colab.kernel.accessAllowed ? 'block' : 'none';\n",
              "\n",
              "        async function convertToInteractive(key) {\n",
              "          const element = document.querySelector('#df-8a633502-b9d1-4e17-95e8-91eabba8885a');\n",
              "          const dataTable =\n",
              "            await google.colab.kernel.invokeFunction('convertToInteractive',\n",
              "                                                     [key], {});\n",
              "          if (!dataTable) return;\n",
              "\n",
              "          const docLinkHtml = 'Like what you see? Visit the ' +\n",
              "            '<a target=\"_blank\" href=https://colab.research.google.com/notebooks/data_table.ipynb>data table notebook</a>'\n",
              "            + ' to learn more about interactive tables.';\n",
              "          element.innerHTML = '';\n",
              "          dataTable['output_type'] = 'display_data';\n",
              "          await google.colab.output.renderOutput(dataTable, element);\n",
              "          const docLink = document.createElement('div');\n",
              "          docLink.innerHTML = docLinkHtml;\n",
              "          element.appendChild(docLink);\n",
              "        }\n",
              "      </script>\n",
              "    </div>\n",
              "  </div>\n",
              "  "
            ]
          },
          "metadata": {},
          "execution_count": 3
        }
      ]
    },
    {
      "cell_type": "markdown",
      "source": [
        " people applying for loan who are categorized based on gender \n",
        "and marital status"
      ],
      "metadata": {
        "id": "hTVpCTiI_xdm"
      }
    },
    {
      "cell_type": "code",
      "source": [
        "grid = sns.FacetGrid(df_train, row='Gender', col='Married', size=2.2, aspect=1.6)\n",
        "grid.map(plt.hist, 'ApplicantIncome', alpha=.5, bins=10)\n",
        "grid.add_legend()"
      ],
      "metadata": {
        "colab": {
          "base_uri": "https://localhost:8080/",
          "height": 343
        },
        "id": "ZP-3XAxZ_2t6",
        "outputId": "1c9b6fe2-9521-4bea-f3c0-4abd2a2b83b8"
      },
      "execution_count": 6,
      "outputs": [
        {
          "output_type": "execute_result",
          "data": {
            "text/plain": [
              "<seaborn.axisgrid.FacetGrid at 0x7fef1363fe90>"
            ]
          },
          "metadata": {},
          "execution_count": 6
        },
        {
          "output_type": "display_data",
          "data": {
            "text/plain": [
              "<Figure size 514.88x316.8 with 4 Axes>"
            ],
            "image/png": "[encoded data removed]"
          },
          "metadata": {
            "needs_background": "light"
          }
        }
      ]
    },
    {
      "cell_type": "markdown",
      "source": [
        "Graphs plotted based on categories gender and education"
      ],
      "metadata": {
        "id": "zmlGFIZyARNm"
      }
    },
    {
      "cell_type": "code",
      "source": [
        "grid = sns.FacetGrid(df_train, row='Gender', col='Education', size=2.2, aspect=1.6)\n",
        "grid.map(plt.hist, 'ApplicantIncome', alpha=.5, bins=10)\n",
        "grid.add_legend()"
      ],
      "metadata": {
        "colab": {
          "base_uri": "https://localhost:8080/",
          "height": 343
        },
        "id": "cMqjWr9vASMb",
        "outputId": "2b71e8e0-1bb5-493c-cd10-4a7723a28024"
      },
      "execution_count": 8,
      "outputs": [
        {
          "output_type": "execute_result",
          "data": {
            "text/plain": [
              "<seaborn.axisgrid.FacetGrid at 0x7fef2b9f7850>"
            ]
          },
          "metadata": {},
          "execution_count": 8
        },
        {
          "output_type": "display_data",
          "data": {
            "text/plain": [
              "<Figure size 514.88x316.8 with 4 Axes>"
            ],
            "image/png": "[encoded data removed]"
          },
          "metadata": {
            "needs_background": "light"
          }
        }
      ]
    },
    {
      "cell_type": "markdown",
      "source": [
        "Graphs plotted based on categories marriage and education"
      ],
      "metadata": {
        "id": "DywtusBbAjw1"
      }
    },
    {
      "cell_type": "code",
      "source": [
        "grid = sns.FacetGrid(df_train, row='Married', col='Education', size=2.2, aspect=1.6)\n",
        "grid.map(plt.hist, 'ApplicantIncome', alpha=.5, bins=10)\n",
        "grid.add_legend()"
      ],
      "metadata": {
        "colab": {
          "base_uri": "https://localhost:8080/",
          "height": 343
        },
        "id": "WGEKmEFkAkpO",
        "outputId": "bb957393-c0d8-4510-bfcd-7c76071f9b39"
      },
      "execution_count": 9,
      "outputs": [
        {
          "output_type": "execute_result",
          "data": {
            "text/plain": [
              "<seaborn.axisgrid.FacetGrid at 0x7fef130c2ed0>"
            ]
          },
          "metadata": {},
          "execution_count": 9
        },
        {
          "output_type": "display_data",
          "data": {
            "text/plain": [
              "<Figure size 514.88x316.8 with 4 Axes>"
            ],
            "image/png": "[encoded data removed]"
          },
          "metadata": {
            "needs_background": "light"
          }
        }
      ]
    },
    {
      "cell_type": "markdown",
      "source": [
        "histogram and normal probability plot"
      ],
      "metadata": {
        "id": "QLOjUD3HAvnW"
      }
    },
    {
      "cell_type": "code",
      "source": [
        "sns.distplot(df_train['ApplicantIncome'], fit=norm);\n",
        "fig = plt.figure()\n",
        "res = stats.probplot(df_train['ApplicantIncome'], plot=plt)"
      ],
      "metadata": {
        "colab": {
          "base_uri": "https://localhost:8080/",
          "height": 557
        },
        "id": "gesvbG9RA2Cn",
        "outputId": "4e2b5a0e-bafa-4bd5-b78b-13304c6255a4"
      },
      "execution_count": 10,
      "outputs": [
        {
          "output_type": "display_data",
          "data": {
            "text/plain": [
              "<Figure size 432x288 with 1 Axes>"
            ],
            "image/png": "[encoded data removed]"
          },
          "metadata": {
            "needs_background": "light"
          }
        },
        {
          "output_type": "display_data",
          "data": {
            "text/plain": [
              "<Figure size 432x288 with 1 Axes>"
            ],
            "image/png": "[encoded data removed]"
          },
          "metadata": {
            "needs_background": "light"
          }
        }
      ]
    },
    {
      "cell_type": "markdown",
      "source": [
        "correlation matrix"
      ],
      "metadata": {
        "id": "RoweB-hZBIE4"
      }
    },
    {
      "cell_type": "code",
      "source": [
        "corrmat = df_train.corr()\n",
        "f, ax = plt.subplots(figsize=(12, 9))\n",
        "sns.heatmap(corrmat, vmax=.8, square=True);"
      ],
      "metadata": {
        "colab": {
          "base_uri": "https://localhost:8080/",
          "height": 542
        },
        "id": "4Wpe-Y2rBI3I",
        "outputId": "a20b208c-64f8-44ba-ba94-6f5a419d9db2"
      },
      "execution_count": 11,
      "outputs": [
        {
          "output_type": "display_data",
          "data": {
            "text/plain": [
              "<Figure size 864x648 with 2 Axes>"
            ],
            "image/png": "[encoded data removed]"
          },
          "metadata": {
            "needs_background": "light"
          }
        }
      ]
    },
    {
      "cell_type": "markdown",
      "source": [
        "Graph depicts the combination of applicant income, married people and \n",
        "dependent people in a family"
      ],
      "metadata": {
        "id": "afDibKZhBNr4"
      }
    },
    {
      "cell_type": "code",
      "source": [
        "grid = sns.FacetGrid(df_train, row='Married', col='Dependents', size=3.2, aspect=1.6)\n",
        "grid.map(plt.hist, 'ApplicantIncome', alpha=.5, bins=10)\n",
        "grid.add_legend()"
      ],
      "metadata": {
        "colab": {
          "base_uri": "https://localhost:8080/",
          "height": 467
        },
        "id": "y-EDDWOoBTBh",
        "outputId": "6b4155bd-2793-4aaf-8a20-08d812be3915"
      },
      "execution_count": 12,
      "outputs": [
        {
          "output_type": "execute_result",
          "data": {
            "text/plain": [
              "<seaborn.axisgrid.FacetGrid at 0x7fef12c89510>"
            ]
          },
          "metadata": {},
          "execution_count": 12
        },
        {
          "output_type": "display_data",
          "data": {
            "text/plain": [
              "<Figure size 1482.56x460.8 with 8 Axes>"
            ],
            "image/png": "[encoded data removed]"
          },
          "metadata": {
            "needs_background": "light"
          }
        }
      ]
    },
    {
      "cell_type": "markdown",
      "source": [
        "Graph which differentiates the applicant income distribution, Coapplicant income \n",
        "distribution, loan amount distribution"
      ],
      "metadata": {
        "id": "JLEcy3siBdtu"
      }
    },
    {
      "cell_type": "code",
      "source": [
        "flg, axes = plt.subplots(nrows = 1, ncols = 3, figsize = (14,6))\n",
        "sns.distplot(df_train['ApplicantIncome'], ax = axes[0]).set_title('ApplicantIncome Distribution')\n",
        "axes[0].set_ylabel('ApplicantIncomee Count')\n",
        "sns.distplot(df_train['CoapplicantIncome'], color = \"r\", ax = axes[1]).set_title('CoapplicantIncome Distribution')\n",
        "axes[1].set_ylabel('CoapplicantIncome Count')\n",
        "sns.distplot(df_train['LoanAmount'],color = \"g\", ax = axes[2]).set_title('LoanAmount Distribution')\n",
        "axes[2].set_ylabel('LoanAmount Count')\n",
        "plt.tight_layout()\n",
        "plt.show()\n",
        "plt.gcf().clear()"
      ],
      "metadata": {
        "colab": {
          "base_uri": "https://localhost:8080/",
          "height": 458
        },
        "id": "xnz6bnnRBf9p",
        "outputId": "14124262-be71-4476-ef19-ba009682681a"
      },
      "execution_count": 13,
      "outputs": [
        {
          "output_type": "display_data",
          "data": {
            "text/plain": [
              "<Figure size 1008x432 with 3 Axes>"
            ],
            "image/png": "[encoded data removed]"
          },
          "metadata": {
            "needs_background": "light"
          }
        },
        {
          "output_type": "display_data",
          "data": {
            "text/plain": [
              "<Figure size 432x288 with 0 Axes>"
            ]
          },
          "metadata": {}
        }
      ]
    },
    {
      "cell_type": "markdown",
      "source": [
        "This graph shows the count of people differentiated based on education, \n",
        "self_employed, and property_area"
      ],
      "metadata": {
        "id": "onxGucvkB8ng"
      }
    },
    {
      "cell_type": "code",
      "source": [
        "fig, axes = plt.subplots(ncols=3,figsize=(12,6))\n",
        "g = sns.countplot(df_train[\"Education\"], ax=axes[0])\n",
        "plt.setp(g.get_xticklabels(), rotation=90) \n",
        "g = sns.countplot(df_train[\"Self_Employed\"], ax=axes[1])\n",
        "plt.setp(g.get_xticklabels(), rotation=90) \n",
        "g = sns.countplot(df_train[\"Property_Area\"], ax=axes[2])\n",
        "plt.setp(g.get_xticklabels(), rotation=90)\n",
        "plt.tight_layout()\n",
        "plt.show()\n",
        "plt.gcf().clear()"
      ],
      "metadata": {
        "colab": {
          "base_uri": "https://localhost:8080/",
          "height": 458
        },
        "id": "5wFov9X1Bz2i",
        "outputId": "7dae9536-8c9e-417f-bdf8-b1863958ce1c"
      },
      "execution_count": 15,
      "outputs": [
        {
          "output_type": "display_data",
          "data": {
            "text/plain": [
              "<Figure size 864x432 with 3 Axes>"
            ],
            "image/png": "[encoded data removed]"
          },
          "metadata": {
            "needs_background": "light"
          }
        },
        {
          "output_type": "display_data",
          "data": {
            "text/plain": [
              "<Figure size 432x288 with 0 Axes>"
            ]
          },
          "metadata": {}
        }
      ]
    },
    {
      "cell_type": "markdown",
      "source": [
        "Importing training & testing dataset using pandas."
      ],
      "metadata": {
        "id": "dmh8ne9XCRI4"
      }
    },
    {
      "cell_type": "code",
      "source": [
        "train = pd.read_csv('/content/train.csv')\n",
        "test = pd.read_csv('/content/test.csv')"
      ],
      "metadata": {
        "id": "cV3Od-FPCbuo"
      },
      "execution_count": 16,
      "outputs": []
    },
    {
      "cell_type": "markdown",
      "source": [
        "Converting values to number"
      ],
      "metadata": {
        "id": "GghlOnHQC323"
      }
    },
    {
      "cell_type": "code",
      "source": [
        "train['Dependents'].replace('3+', 3,inplace=True)\n",
        "test['Dependents'].replace('3+', 3,inplace=True)"
      ],
      "metadata": {
        "id": "UAeNmxH6C9a3"
      },
      "execution_count": 17,
      "outputs": []
    },
    {
      "cell_type": "code",
      "source": [
        "train.head()\n"
      ],
      "metadata": {
        "colab": {
          "base_uri": "https://localhost:8080/",
          "height": 206
        },
        "id": "iRtbZY5rDArL",
        "outputId": "51412dba-0de5-44c2-f7b2-2291abb6ac1b"
      },
      "execution_count": 19,
      "outputs": [
        {
          "output_type": "execute_result",
          "data": {
            "text/plain": [
              "    Loan_ID Gender Married Dependents     Education Self_Employed  \\\n",
              "0  LP001002   Male      No          0      Graduate            No   \n",
              "1  LP001003   Male     Yes          1      Graduate            No   \n",
              "2  LP001005   Male     Yes          0      Graduate           Yes   \n",
              "3  LP001006   Male     Yes          0  Not Graduate            No   \n",
              "4  LP001008   Male      No          0      Graduate            No   \n",
              "\n",
              "   ApplicantIncome  CoapplicantIncome  LoanAmount  Loan_Amount_Term  \\\n",
              "0             5849                0.0         NaN             360.0   \n",
              "1             4583             1508.0       128.0             360.0   \n",
              "2             3000                0.0        66.0             360.0   \n",
              "3             2583             2358.0       120.0             360.0   \n",
              "4             6000                0.0       141.0             360.0   \n",
              "\n",
              "   Credit_History Property_Area Loan_Status  \n",
              "0             1.0         Urban           Y  \n",
              "1             1.0         Rural           N  \n",
              "2             1.0         Urban           Y  \n",
              "3             1.0         Urban           Y  \n",
              "4             1.0         Urban           Y  "
            ],
            "text/html": [
              "\n",
              "  <div id=\"df-bd17731a-98ce-485b-aa5a-bedbb2676cdc\">\n",
              "    <div class=\"colab-df-container\">\n",
              "      <div>\n",
              "<style scoped>\n",
              "    .dataframe tbody tr th:only-of-type {\n",
              "        vertical-align: middle;\n",
              "    }\n",
              "\n",
              "    .dataframe tbody tr th {\n",
              "        vertical-align: top;\n",
              "    }\n",
              "\n",
              "    .dataframe thead th {\n",
              "        text-align: right;\n",
              "    }\n",
              "</style>\n",
              "<table border=\"1\" class=\"dataframe\">\n",
              "  <thead>\n",
              "    <tr style=\"text-align: right;\">\n",
              "      <th></th>\n",
              "      <th>Loan_ID</th>\n",
              "      <th>Gender</th>\n",
              "      <th>Married</th>\n",
              "      <th>Dependents</th>\n",
              "      <th>Education</th>\n",
              "      <th>Self_Employed</th>\n",
              "      <th>ApplicantIncome</th>\n",
              "      <th>CoapplicantIncome</th>\n",
              "      <th>LoanAmount</th>\n",
              "      <th>Loan_Amount_Term</th>\n",
              "      <th>Credit_History</th>\n",
              "      <th>Property_Area</th>\n",
              "      <th>Loan_Status</th>\n",
              "    </tr>\n",
              "  </thead>\n",
              "  <tbody>\n",
              "    <tr>\n",
              "      <th>0</th>\n",
              "      <td>LP001002</td>\n",
              "      <td>Male</td>\n",
              "      <td>No</td>\n",
              "      <td>0</td>\n",
              "      <td>Graduate</td>\n",
              "      <td>No</td>\n",
              "      <td>5849</td>\n",
              "      <td>0.0</td>\n",
              "      <td>NaN</td>\n",
              "      <td>360.0</td>\n",
              "      <td>1.0</td>\n",
              "      <td>Urban</td>\n",
              "      <td>Y</td>\n",
              "    </tr>\n",
              "    <tr>\n",
              "      <th>1</th>\n",
              "      <td>LP001003</td>\n",
              "      <td>Male</td>\n",
              "      <td>Yes</td>\n",
              "      <td>1</td>\n",
              "      <td>Graduate</td>\n",
              "      <td>No</td>\n",
              "      <td>4583</td>\n",
              "      <td>1508.0</td>\n",
              "      <td>128.0</td>\n",
              "      <td>360.0</td>\n",
              "      <td>1.0</td>\n",
              "      <td>Rural</td>\n",
              "      <td>N</td>\n",
              "    </tr>\n",
              "    <tr>\n",
              "      <th>2</th>\n",
              "      <td>LP001005</td>\n",
              "      <td>Male</td>\n",
              "      <td>Yes</td>\n",
              "      <td>0</td>\n",
              "      <td>Graduate</td>\n",
              "      <td>Yes</td>\n",
              "      <td>3000</td>\n",
              "      <td>0.0</td>\n",
              "      <td>66.0</td>\n",
              "      <td>360.0</td>\n",
              "      <td>1.0</td>\n",
              "      <td>Urban</td>\n",
              "      <td>Y</td>\n",
              "    </tr>\n",
              "    <tr>\n",
              "      <th>3</th>\n",
              "      <td>LP001006</td>\n",
              "      <td>Male</td>\n",
              "      <td>Yes</td>\n",
              "      <td>0</td>\n",
              "      <td>Not Graduate</td>\n",
              "      <td>No</td>\n",
              "      <td>2583</td>\n",
              "      <td>2358.0</td>\n",
              "      <td>120.0</td>\n",
              "      <td>360.0</td>\n",
              "      <td>1.0</td>\n",
              "      <td>Urban</td>\n",
              "      <td>Y</td>\n",
              "    </tr>\n",
              "    <tr>\n",
              "      <th>4</th>\n",
              "      <td>LP001008</td>\n",
              "      <td>Male</td>\n",
              "      <td>No</td>\n",
              "      <td>0</td>\n",
              "      <td>Graduate</td>\n",
              "      <td>No</td>\n",
              "      <td>6000</td>\n",
              "      <td>0.0</td>\n",
              "      <td>141.0</td>\n",
              "      <td>360.0</td>\n",
              "      <td>1.0</td>\n",
              "      <td>Urban</td>\n",
              "      <td>Y</td>\n",
              "    </tr>\n",
              "  </tbody>\n",
              "</table>\n",
              "</div>\n",
              "      <button class=\"colab-df-convert\" onclick=\"convertToInteractive('df-bd17731a-98ce-485b-aa5a-bedbb2676cdc')\"\n",
              "              title=\"Convert this dataframe to an interactive table.\"\n",
              "              style=\"display:none;\">\n",
              "        \n",
              "  <svg xmlns=\"http://www.w3.org/2000/svg\" height=\"24px\"viewBox=\"0 0 24 24\"\n",
              "       width=\"24px\">\n",
              "    <path d=\"M0 0h24v24H0V0z\" fill=\"none\"/>\n",
              "    <path d=\"M18.56 5.44l.94 2.06.94-2.06 2.06-.94-2.06-.94-.94-2.06-.94 2.06-2.06.94zm-11 1L8.5 8.5l.94-2.06 2.06-.94-2.06-.94L8.5 2.5l-.94 2.06-2.06.94zm10 10l.94 2.06.94-2.06 2.06-.94-2.06-.94-.94-2.06-.94 2.06-2.06.94z\"/><path d=\"M17.41 7.96l-1.37-1.37c-.4-.4-.92-.59-1.43-.59-.52 0-1.04.2-1.43.59L10.3 9.45l-7.72 7.72c-.78.78-.78 2.05 0 2.83L4 21.41c.39.39.9.59 1.41.59.51 0 1.02-.2 1.41-.59l7.78-7.78 2.81-2.81c.8-.78.8-2.07 0-2.86zM5.41 20L4 18.59l7.72-7.72 1.47 1.35L5.41 20z\"/>\n",
              "  </svg>\n",
              "      </button>\n",
              "      \n",
              "  <style>\n",
              "    .colab-df-container {\n",
              "      display:flex;\n",
              "      flex-wrap:wrap;\n",
              "      gap: 12px;\n",
              "    }\n",
              "\n",
              "    .colab-df-convert {\n",
              "      background-color: #E8F0FE;\n",
              "      border: none;\n",
              "      border-radius: 50%;\n",
              "      cursor: pointer;\n",
              "      display: none;\n",
              "      fill: #1967D2;\n",
              "      height: 32px;\n",
              "      padding: 0 0 0 0;\n",
              "      width: 32px;\n",
              "    }\n",
              "\n",
              "    .colab-df-convert:hover {\n",
              "      background-color: #E2EBFA;\n",
              "      box-shadow: 0px 1px 2px rgba(60, 64, 67, 0.3), 0px 1px 3px 1px rgba(60, 64, 67, 0.15);\n",
              "      fill: #174EA6;\n",
              "    }\n",
              "\n",
              "    [theme=dark] .colab-df-convert {\n",
              "      background-color: #3B4455;\n",
              "      fill: #D2E3FC;\n",
              "    }\n",
              "\n",
              "    [theme=dark] .colab-df-convert:hover {\n",
              "      background-color: #434B5C;\n",
              "      box-shadow: 0px 1px 3px 1px rgba(0, 0, 0, 0.15);\n",
              "      filter: drop-shadow(0px 1px 2px rgba(0, 0, 0, 0.3));\n",
              "      fill: #FFFFFF;\n",
              "    }\n",
              "  </style>\n",
              "\n",
              "      <script>\n",
              "        const buttonEl =\n",
              "          document.querySelector('#df-bd17731a-98ce-485b-aa5a-bedbb2676cdc button.colab-df-convert');\n",
              "        buttonEl.style.display =\n",
              "          google.colab.kernel.accessAllowed ? 'block' : 'none';\n",
              "\n",
              "        async function convertToInteractive(key) {\n",
              "          const element = document.querySelector('#df-bd17731a-98ce-485b-aa5a-bedbb2676cdc');\n",
              "          const dataTable =\n",
              "            await google.colab.kernel.invokeFunction('convertToInteractive',\n",
              "                                                     [key], {});\n",
              "          if (!dataTable) return;\n",
              "\n",
              "          const docLinkHtml = 'Like what you see? Visit the ' +\n",
              "            '<a target=\"_blank\" href=https://colab.research.google.com/notebooks/data_table.ipynb>data table notebook</a>'\n",
              "            + ' to learn more about interactive tables.';\n",
              "          element.innerHTML = '';\n",
              "          dataTable['output_type'] = 'display_data';\n",
              "          await google.colab.output.renderOutput(dataTable, element);\n",
              "          const docLink = document.createElement('div');\n",
              "          docLink.innerHTML = docLinkHtml;\n",
              "          element.appendChild(docLink);\n",
              "        }\n",
              "      </script>\n",
              "    </div>\n",
              "  </div>\n",
              "  "
            ]
          },
          "metadata": {},
          "execution_count": 19
        }
      ]
    },
    {
      "cell_type": "code",
      "source": [
        "test.head()"
      ],
      "metadata": {
        "colab": {
          "base_uri": "https://localhost:8080/",
          "height": 206
        },
        "id": "-Oj0J1KzDIVI",
        "outputId": "ae747023-7bbe-46dd-95cb-7566440a1964"
      },
      "execution_count": 20,
      "outputs": [
        {
          "output_type": "execute_result",
          "data": {
            "text/plain": [
              "    Loan_ID Gender Married Dependents     Education Self_Employed  \\\n",
              "0  LP001015   Male     Yes          0      Graduate            No   \n",
              "1  LP001022   Male     Yes          1      Graduate            No   \n",
              "2  LP001031   Male     Yes          2      Graduate            No   \n",
              "3  LP001035   Male     Yes          2      Graduate            No   \n",
              "4  LP001051   Male      No          0  Not Graduate            No   \n",
              "\n",
              "   ApplicantIncome  CoapplicantIncome  LoanAmount  Loan_Amount_Term  \\\n",
              "0             5720                  0       110.0             360.0   \n",
              "1             3076               1500       126.0             360.0   \n",
              "2             5000               1800       208.0             360.0   \n",
              "3             2340               2546       100.0             360.0   \n",
              "4             3276                  0        78.0             360.0   \n",
              "\n",
              "   Credit_History Property_Area  \n",
              "0             1.0         Urban  \n",
              "1             1.0         Urban  \n",
              "2             1.0         Urban  \n",
              "3             NaN         Urban  \n",
              "4             1.0         Urban  "
            ],
            "text/html": [
              "\n",
              "  <div id=\"df-d18d7609-5dbd-423d-9d7b-45a39d9c9e5c\">\n",
              "    <div class=\"colab-df-container\">\n",
              "      <div>\n",
              "<style scoped>\n",
              "    .dataframe tbody tr th:only-of-type {\n",
              "        vertical-align: middle;\n",
              "    }\n",
              "\n",
              "    .dataframe tbody tr th {\n",
              "        vertical-align: top;\n",
              "    }\n",
              "\n",
              "    .dataframe thead th {\n",
              "        text-align: right;\n",
              "    }\n",
              "</style>\n",
              "<table border=\"1\" class=\"dataframe\">\n",
              "  <thead>\n",
              "    <tr style=\"text-align: right;\">\n",
              "      <th></th>\n",
              "      <th>Loan_ID</th>\n",
              "      <th>Gender</th>\n",
              "      <th>Married</th>\n",
              "      <th>Dependents</th>\n",
              "      <th>Education</th>\n",
              "      <th>Self_Employed</th>\n",
              "      <th>ApplicantIncome</th>\n",
              "      <th>CoapplicantIncome</th>\n",
              "      <th>LoanAmount</th>\n",
              "      <th>Loan_Amount_Term</th>\n",
              "      <th>Credit_History</th>\n",
              "      <th>Property_Area</th>\n",
              "    </tr>\n",
              "  </thead>\n",
              "  <tbody>\n",
              "    <tr>\n",
              "      <th>0</th>\n",
              "      <td>LP001015</td>\n",
              "      <td>Male</td>\n",
              "      <td>Yes</td>\n",
              "      <td>0</td>\n",
              "      <td>Graduate</td>\n",
              "      <td>No</td>\n",
              "      <td>5720</td>\n",
              "      <td>0</td>\n",
              "      <td>110.0</td>\n",
              "      <td>360.0</td>\n",
              "      <td>1.0</td>\n",
              "      <td>Urban</td>\n",
              "    </tr>\n",
              "    <tr>\n",
              "      <th>1</th>\n",
              "      <td>LP001022</td>\n",
              "      <td>Male</td>\n",
              "      <td>Yes</td>\n",
              "      <td>1</td>\n",
              "      <td>Graduate</td>\n",
              "      <td>No</td>\n",
              "      <td>3076</td>\n",
              "      <td>1500</td>\n",
              "      <td>126.0</td>\n",
              "      <td>360.0</td>\n",
              "      <td>1.0</td>\n",
              "      <td>Urban</td>\n",
              "    </tr>\n",
              "    <tr>\n",
              "      <th>2</th>\n",
              "      <td>LP001031</td>\n",
              "      <td>Male</td>\n",
              "      <td>Yes</td>\n",
              "      <td>2</td>\n",
              "      <td>Graduate</td>\n",
              "      <td>No</td>\n",
              "      <td>5000</td>\n",
              "      <td>1800</td>\n",
              "      <td>208.0</td>\n",
              "      <td>360.0</td>\n",
              "      <td>1.0</td>\n",
              "      <td>Urban</td>\n",
              "    </tr>\n",
              "    <tr>\n",
              "      <th>3</th>\n",
              "      <td>LP001035</td>\n",
              "      <td>Male</td>\n",
              "      <td>Yes</td>\n",
              "      <td>2</td>\n",
              "      <td>Graduate</td>\n",
              "      <td>No</td>\n",
              "      <td>2340</td>\n",
              "      <td>2546</td>\n",
              "      <td>100.0</td>\n",
              "      <td>360.0</td>\n",
              "      <td>NaN</td>\n",
              "      <td>Urban</td>\n",
              "    </tr>\n",
              "    <tr>\n",
              "      <th>4</th>\n",
              "      <td>LP001051</td>\n",
              "      <td>Male</td>\n",
              "      <td>No</td>\n",
              "      <td>0</td>\n",
              "      <td>Not Graduate</td>\n",
              "      <td>No</td>\n",
              "      <td>3276</td>\n",
              "      <td>0</td>\n",
              "      <td>78.0</td>\n",
              "      <td>360.0</td>\n",
              "      <td>1.0</td>\n",
              "      <td>Urban</td>\n",
              "    </tr>\n",
              "  </tbody>\n",
              "</table>\n",
              "</div>\n",
              "      <button class=\"colab-df-convert\" onclick=\"convertToInteractive('df-d18d7609-5dbd-423d-9d7b-45a39d9c9e5c')\"\n",
              "              title=\"Convert this dataframe to an interactive table.\"\n",
              "              style=\"display:none;\">\n",
              "        \n",
              "  <svg xmlns=\"http://www.w3.org/2000/svg\" height=\"24px\"viewBox=\"0 0 24 24\"\n",
              "       width=\"24px\">\n",
              "    <path d=\"M0 0h24v24H0V0z\" fill=\"none\"/>\n",
              "    <path d=\"M18.56 5.44l.94 2.06.94-2.06 2.06-.94-2.06-.94-.94-2.06-.94 2.06-2.06.94zm-11 1L8.5 8.5l.94-2.06 2.06-.94-2.06-.94L8.5 2.5l-.94 2.06-2.06.94zm10 10l.94 2.06.94-2.06 2.06-.94-2.06-.94-.94-2.06-.94 2.06-2.06.94z\"/><path d=\"M17.41 7.96l-1.37-1.37c-.4-.4-.92-.59-1.43-.59-.52 0-1.04.2-1.43.59L10.3 9.45l-7.72 7.72c-.78.78-.78 2.05 0 2.83L4 21.41c.39.39.9.59 1.41.59.51 0 1.02-.2 1.41-.59l7.78-7.78 2.81-2.81c.8-.78.8-2.07 0-2.86zM5.41 20L4 18.59l7.72-7.72 1.47 1.35L5.41 20z\"/>\n",
              "  </svg>\n",
              "      </button>\n",
              "      \n",
              "  <style>\n",
              "    .colab-df-container {\n",
              "      display:flex;\n",
              "      flex-wrap:wrap;\n",
              "      gap: 12px;\n",
              "    }\n",
              "\n",
              "    .colab-df-convert {\n",
              "      background-color: #E8F0FE;\n",
              "      border: none;\n",
              "      border-radius: 50%;\n",
              "      cursor: pointer;\n",
              "      display: none;\n",
              "      fill: #1967D2;\n",
              "      height: 32px;\n",
              "      padding: 0 0 0 0;\n",
              "      width: 32px;\n",
              "    }\n",
              "\n",
              "    .colab-df-convert:hover {\n",
              "      background-color: #E2EBFA;\n",
              "      box-shadow: 0px 1px 2px rgba(60, 64, 67, 0.3), 0px 1px 3px 1px rgba(60, 64, 67, 0.15);\n",
              "      fill: #174EA6;\n",
              "    }\n",
              "\n",
              "    [theme=dark] .colab-df-convert {\n",
              "      background-color: #3B4455;\n",
              "      fill: #D2E3FC;\n",
              "    }\n",
              "\n",
              "    [theme=dark] .colab-df-convert:hover {\n",
              "      background-color: #434B5C;\n",
              "      box-shadow: 0px 1px 3px 1px rgba(0, 0, 0, 0.15);\n",
              "      filter: drop-shadow(0px 1px 2px rgba(0, 0, 0, 0.3));\n",
              "      fill: #FFFFFF;\n",
              "    }\n",
              "  </style>\n",
              "\n",
              "      <script>\n",
              "        const buttonEl =\n",
              "          document.querySelector('#df-d18d7609-5dbd-423d-9d7b-45a39d9c9e5c button.colab-df-convert');\n",
              "        buttonEl.style.display =\n",
              "          google.colab.kernel.accessAllowed ? 'block' : 'none';\n",
              "\n",
              "        async function convertToInteractive(key) {\n",
              "          const element = document.querySelector('#df-d18d7609-5dbd-423d-9d7b-45a39d9c9e5c');\n",
              "          const dataTable =\n",
              "            await google.colab.kernel.invokeFunction('convertToInteractive',\n",
              "                                                     [key], {});\n",
              "          if (!dataTable) return;\n",
              "\n",
              "          const docLinkHtml = 'Like what you see? Visit the ' +\n",
              "            '<a target=\"_blank\" href=https://colab.research.google.com/notebooks/data_table.ipynb>data table notebook</a>'\n",
              "            + ' to learn more about interactive tables.';\n",
              "          element.innerHTML = '';\n",
              "          dataTable['output_type'] = 'display_data';\n",
              "          await google.colab.output.renderOutput(dataTable, element);\n",
              "          const docLink = document.createElement('div');\n",
              "          docLink.innerHTML = docLinkHtml;\n",
              "          element.appendChild(docLink);\n",
              "        }\n",
              "      </script>\n",
              "    </div>\n",
              "  </div>\n",
              "  "
            ]
          },
          "metadata": {},
          "execution_count": 20
        }
      ]
    },
    {
      "cell_type": "markdown",
      "source": [
        "lets chech How many null values in each column"
      ],
      "metadata": {
        "id": "3F-qoP9ZDOq0"
      }
    },
    {
      "cell_type": "code",
      "source": [
        "train.isnull().sum()"
      ],
      "metadata": {
        "colab": {
          "base_uri": "https://localhost:8080/"
        },
        "id": "59G0vUQCDU-y",
        "outputId": "7b64509e-0ffe-4664-ff73-635f51405a1b"
      },
      "execution_count": 21,
      "outputs": [
        {
          "output_type": "execute_result",
          "data": {
            "text/plain": [
              "Loan_ID               0\n",
              "Gender               13\n",
              "Married               3\n",
              "Dependents           15\n",
              "Education             0\n",
              "Self_Employed        32\n",
              "ApplicantIncome       0\n",
              "CoapplicantIncome     0\n",
              "LoanAmount           22\n",
              "Loan_Amount_Term     14\n",
              "Credit_History       50\n",
              "Property_Area         0\n",
              "Loan_Status           0\n",
              "dtype: int64"
            ]
          },
          "metadata": {},
          "execution_count": 21
        }
      ]
    },
    {
      "cell_type": "markdown",
      "source": [
        "Train Categorical Variables Missisng values"
      ],
      "metadata": {
        "id": "nv4Lh2jQDiqk"
      }
    },
    {
      "cell_type": "code",
      "source": [
        "train['Gender'].fillna(train['Gender'].mode()[0], inplace=True)\n",
        "train ['Married'].fillna(train['Married'].mode()[0],inplace=True)\n",
        "train['Dependents'].fillna(train['Dependents'].mode()[0], inplace=True)\n",
        "train['Self_Employed'].fillna(train['Self_Employed'].mode()[0], inplace=True)\n",
        "train['Credit_History'].fillna(train['Credit_History'].mode()[0], inplace=True)"
      ],
      "metadata": {
        "id": "iFmS-mzKDjYj"
      },
      "execution_count": 22,
      "outputs": []
    },
    {
      "cell_type": "markdown",
      "source": [
        "Train Numerical Variables Missing Values"
      ],
      "metadata": {
        "id": "RVQUlVOrDpcX"
      }
    },
    {
      "cell_type": "code",
      "source": [
        "train['Loan_Amount_Term'].fillna(train['Loan_Amount_Term'].mode()[0], inplace=True)\n",
        "train['LoanAmount'].fillna(train['LoanAmount'].median(), inplace=True)"
      ],
      "metadata": {
        "id": "hzE52pTxDnpz"
      },
      "execution_count": 23,
      "outputs": []
    },
    {
      "cell_type": "code",
      "source": [
        "train.isnull().sum()"
      ],
      "metadata": {
        "colab": {
          "base_uri": "https://localhost:8080/"
        },
        "id": "RhesF-ZgDvA0",
        "outputId": "dcda9b44-a964-44f6-c87e-66101d51f45c"
      },
      "execution_count": 24,
      "outputs": [
        {
          "output_type": "execute_result",
          "data": {
            "text/plain": [
              "Loan_ID              0\n",
              "Gender               0\n",
              "Married              0\n",
              "Dependents           0\n",
              "Education            0\n",
              "Self_Employed        0\n",
              "ApplicantIncome      0\n",
              "CoapplicantIncome    0\n",
              "LoanAmount           0\n",
              "Loan_Amount_Term     0\n",
              "Credit_History       0\n",
              "Property_Area        0\n",
              "Loan_Status          0\n",
              "dtype: int64"
            ]
          },
          "metadata": {},
          "execution_count": 24
        }
      ]
    },
    {
      "cell_type": "code",
      "source": [
        "test.isnull().sum()"
      ],
      "metadata": {
        "colab": {
          "base_uri": "https://localhost:8080/"
        },
        "id": "XxeF_Fj3DzJO",
        "outputId": "ddf8327d-4829-4a7a-94dc-828dc752cadd"
      },
      "execution_count": 25,
      "outputs": [
        {
          "output_type": "execute_result",
          "data": {
            "text/plain": [
              "Loan_ID               0\n",
              "Gender               11\n",
              "Married               0\n",
              "Dependents           10\n",
              "Education             0\n",
              "Self_Employed        23\n",
              "ApplicantIncome       0\n",
              "CoapplicantIncome     0\n",
              "LoanAmount            5\n",
              "Loan_Amount_Term      6\n",
              "Credit_History       29\n",
              "Property_Area         0\n",
              "dtype: int64"
            ]
          },
          "metadata": {},
          "execution_count": 25
        }
      ]
    },
    {
      "cell_type": "code",
      "source": [
        "test['Gender'].fillna(test['Gender'].mode()[0], inplace=True)\n",
        "test ['Married'].fillna(test['Married'].mode()[0],inplace=True)\n",
        "test['Dependents'].fillna(test['Dependents'].mode()[0], inplace=True)\n",
        "test['Self_Employed'].fillna(test['Self_Employed'].mode()[0], inplace=True)\n",
        "test['Credit_History'].fillna(test['Credit_History'].mode()[0], inplace=True)"
      ],
      "metadata": {
        "id": "2fiCClAYD7sx"
      },
      "execution_count": 26,
      "outputs": []
    },
    {
      "cell_type": "code",
      "source": [
        "test['Loan_Amount_Term'].fillna(test['Loan_Amount_Term'].mode()[0], inplace=True)\n",
        "test['LoanAmount'].fillna(test['LoanAmount'].median(), inplace=True)"
      ],
      "metadata": {
        "id": "Wn50eiwoD9Vs"
      },
      "execution_count": 27,
      "outputs": []
    },
    {
      "cell_type": "code",
      "source": [
        "test.isnull().sum()"
      ],
      "metadata": {
        "colab": {
          "base_uri": "https://localhost:8080/"
        },
        "id": "gTrfTElCEBa_",
        "outputId": "0b28b255-594a-495b-b2ab-0f2e279f3e94"
      },
      "execution_count": 28,
      "outputs": [
        {
          "output_type": "execute_result",
          "data": {
            "text/plain": [
              "Loan_ID              0\n",
              "Gender               0\n",
              "Married              0\n",
              "Dependents           0\n",
              "Education            0\n",
              "Self_Employed        0\n",
              "ApplicantIncome      0\n",
              "CoapplicantIncome    0\n",
              "LoanAmount           0\n",
              "Loan_Amount_Term     0\n",
              "Credit_History       0\n",
              "Property_Area        0\n",
              "dtype: int64"
            ]
          },
          "metadata": {},
          "execution_count": 28
        }
      ]
    },
    {
      "cell_type": "markdown",
      "source": [
        "outlier treatment"
      ],
      "metadata": {
        "id": "2hVC0G2HEH0z"
      }
    },
    {
      "cell_type": "code",
      "source": [
        "train['LoanAmount'] = np.log(train['LoanAmount'])\n",
        "test['LoanAmount'] = np.log(test['LoanAmount'])"
      ],
      "metadata": {
        "id": "Ss7M0DVbEG0C"
      },
      "execution_count": 29,
      "outputs": []
    },
    {
      "cell_type": "markdown",
      "source": [
        "Separting the Variable into Independent and Dependent"
      ],
      "metadata": {
        "id": "2teo6xwPELSK"
      }
    },
    {
      "cell_type": "code",
      "source": [
        "X = train.iloc[:, 1:-1].values\n",
        "y = train.iloc[:, -1].values"
      ],
      "metadata": {
        "id": "QZvV9sH-EPEP"
      },
      "execution_count": 30,
      "outputs": []
    },
    {
      "cell_type": "markdown",
      "source": [
        "Converting Categorical variables into dummy"
      ],
      "metadata": {
        "id": "iF1XXKvYEf_j"
      }
    },
    {
      "cell_type": "code",
      "source": [
        "from sklearn.preprocessing import LabelEncoder,OneHotEncoder\n",
        "labelencoder_X = LabelEncoder()"
      ],
      "metadata": {
        "id": "iLQimBD2ET5L"
      },
      "execution_count": 31,
      "outputs": []
    },
    {
      "cell_type": "markdown",
      "source": [
        "Gender"
      ],
      "metadata": {
        "id": "gNS7PFy6EkOn"
      }
    },
    {
      "cell_type": "code",
      "source": [
        "X[:,0] = labelencoder_X.fit_transform(X[:,0])"
      ],
      "metadata": {
        "id": "6gmxDHzMEmIm"
      },
      "execution_count": 32,
      "outputs": []
    },
    {
      "cell_type": "markdown",
      "source": [
        "Marraige"
      ],
      "metadata": {
        "id": "RywSf1-BEpA_"
      }
    },
    {
      "cell_type": "code",
      "source": [
        "X[:,1] = labelencoder_X.fit_transform(X[:,1])"
      ],
      "metadata": {
        "id": "ok1xjxb9EzEY"
      },
      "execution_count": 33,
      "outputs": []
    },
    {
      "cell_type": "markdown",
      "source": [
        "Education"
      ],
      "metadata": {
        "id": "eOAtfGpBEsex"
      }
    },
    {
      "cell_type": "code",
      "source": [
        "X[:,3] = labelencoder_X.fit_transform(X[:,3])"
      ],
      "metadata": {
        "id": "_kgSEIK1E16G"
      },
      "execution_count": 34,
      "outputs": []
    },
    {
      "cell_type": "markdown",
      "source": [
        "Self Employed"
      ],
      "metadata": {
        "id": "rT-Y_LylEu9e"
      }
    },
    {
      "cell_type": "code",
      "source": [
        "X[:,4] = labelencoder_X.fit_transform(X[:,4])"
      ],
      "metadata": {
        "id": "-geo1cUUE5-4"
      },
      "execution_count": 35,
      "outputs": []
    },
    {
      "cell_type": "markdown",
      "source": [
        "Property Area"
      ],
      "metadata": {
        "id": "afp95kG6Ew57"
      }
    },
    {
      "cell_type": "code",
      "source": [
        "X[:,-1] = labelencoder_X.fit_transform(X[:,-1])"
      ],
      "metadata": {
        "id": "HfI3XB3EE9WJ"
      },
      "execution_count": 36,
      "outputs": []
    },
    {
      "cell_type": "markdown",
      "source": [
        "# Splitting the dataset into the Training set and Test set"
      ],
      "metadata": {
        "id": "7sQ8LX8FFBmL"
      }
    },
    {
      "cell_type": "code",
      "source": [
        "from sklearn.model_selection import train_test_split\n",
        "X_train, X_test, y_train, y_test = train_test_split(X, y, test_size = 0.20, random_state = 0)"
      ],
      "metadata": {
        "id": "6KsR85OtFCjl"
      },
      "execution_count": 37,
      "outputs": []
    },
    {
      "cell_type": "markdown",
      "source": [
        "Feature Scaling"
      ],
      "metadata": {
        "id": "DIZw0vT0FHci"
      }
    },
    {
      "cell_type": "code",
      "source": [
        "from sklearn.preprocessing import StandardScaler\n",
        "sc = StandardScaler()\n",
        "X_train = sc.fit_transform(X_train)\n",
        "X_test = sc.transform(X_test)"
      ],
      "metadata": {
        "id": "-6Oqg7q0FJqy"
      },
      "execution_count": 38,
      "outputs": []
    },
    {
      "cell_type": "markdown",
      "source": [
        "#Fitting Logistic Regression to our training set"
      ],
      "metadata": {
        "id": "ZMxSXofjFNpy"
      }
    },
    {
      "cell_type": "code",
      "source": [
        "from sklearn.linear_model import LogisticRegression\n",
        "classifier = LogisticRegression(random_state=0)\n",
        "classifier.fit(X_train, y_train)"
      ],
      "metadata": {
        "colab": {
          "base_uri": "https://localhost:8080/"
        },
        "id": "BeDsIPl8FPBO",
        "outputId": "574a8b64-b46e-4245-9bdf-976143cc0aab"
      },
      "execution_count": 39,
      "outputs": [
        {
          "output_type": "execute_result",
          "data": {
            "text/plain": [
              "LogisticRegression(random_state=0)"
            ]
          },
          "metadata": {},
          "execution_count": 39
        }
      ]
    },
    {
      "cell_type": "markdown",
      "source": [
        "# Predicting the Result"
      ],
      "metadata": {
        "id": "WTZHtezlFVx9"
      }
    },
    {
      "cell_type": "code",
      "source": [
        "y_pred = classifier.predict(X_test)"
      ],
      "metadata": {
        "id": "h_sEP1LzFZtZ"
      },
      "execution_count": 40,
      "outputs": []
    },
    {
      "cell_type": "markdown",
      "source": [
        "Prediction of whether lone is accepted or Rejected"
      ],
      "metadata": {
        "id": "wAWyEbheFfQL"
      }
    },
    {
      "cell_type": "code",
      "source": [
        "y_pred[:100]"
      ],
      "metadata": {
        "colab": {
          "base_uri": "https://localhost:8080/"
        },
        "id": "tX8fl_-QFmGA",
        "outputId": "2e882b7b-308c-4dec-9805-a060a48e2e6a"
      },
      "execution_count": 41,
      "outputs": [
        {
          "output_type": "execute_result",
          "data": {
            "text/plain": [
              "array(['Y', 'Y', 'Y', 'Y', 'Y', 'N', 'Y', 'Y', 'N', 'Y', 'Y', 'Y', 'Y',\n",
              "       'Y', 'Y', 'Y', 'Y', 'Y', 'Y', 'N', 'N', 'Y', 'Y', 'Y', 'Y', 'Y',\n",
              "       'Y', 'Y', 'N', 'N', 'Y', 'Y', 'Y', 'Y', 'Y', 'N', 'Y', 'Y', 'Y',\n",
              "       'Y', 'Y', 'N', 'Y', 'Y', 'Y', 'Y', 'Y', 'Y', 'Y', 'Y', 'Y', 'Y',\n",
              "       'Y', 'Y', 'Y', 'Y', 'Y', 'Y', 'Y', 'Y', 'N', 'Y', 'Y', 'N', 'Y',\n",
              "       'Y', 'Y', 'Y', 'Y', 'Y', 'Y', 'Y', 'Y', 'Y', 'Y', 'Y', 'N', 'Y',\n",
              "       'Y', 'N', 'Y', 'Y', 'Y', 'Y', 'Y', 'Y', 'Y', 'Y', 'Y', 'Y', 'Y',\n",
              "       'Y', 'Y', 'N', 'Y', 'N', 'Y', 'Y', 'Y', 'Y'], dtype=object)"
            ]
          },
          "metadata": {},
          "execution_count": 41
        }
      ]
    },
    {
      "cell_type": "markdown",
      "source": [
        "Classification Report"
      ],
      "metadata": {
        "id": "vniNo5QkFtGu"
      }
    },
    {
      "cell_type": "code",
      "source": [
        "from sklearn.metrics import classification_report\n",
        "print(classification_report(y_test, y_pred))"
      ],
      "metadata": {
        "colab": {
          "base_uri": "https://localhost:8080/"
        },
        "id": "yGtAIhdeFwH8",
        "outputId": "0ecc393c-4efd-488b-cb59-027b0e974511"
      },
      "execution_count": 42,
      "outputs": [
        {
          "output_type": "stream",
          "name": "stdout",
          "text": [
            "              precision    recall  f1-score   support\n",
            "\n",
            "           N       0.88      0.45      0.60        33\n",
            "           Y       0.83      0.98      0.90        90\n",
            "\n",
            "    accuracy                           0.84       123\n",
            "   macro avg       0.86      0.72      0.75       123\n",
            "weighted avg       0.84      0.84      0.82       123\n",
            "\n"
          ]
        }
      ]
    },
    {
      "cell_type": "markdown",
      "source": [
        "Implementing the confusion matrix"
      ],
      "metadata": {
        "id": "YEzUTMGwGY8y"
      }
    },
    {
      "cell_type": "code",
      "source": [
        "from sklearn.metrics import confusion_matrix\n",
        "cm = confusion_matrix(y_test, y_pred)\n",
        "print(cm)"
      ],
      "metadata": {
        "colab": {
          "base_uri": "https://localhost:8080/"
        },
        "id": "FoaU40xHGbbh",
        "outputId": "dfc80ec8-7c69-4522-cc03-f6f8263a8b63"
      },
      "execution_count": 43,
      "outputs": [
        {
          "output_type": "stream",
          "name": "stdout",
          "text": [
            "[[15 18]\n",
            " [ 2 88]]\n"
          ]
        }
      ]
    },
    {
      "cell_type": "code",
      "source": [
        "sns.heatmap(cm, annot=True, fmt=\"d\")\n",
        "plt.title('Confusion matrix of the classifier')\n",
        "plt.xlabel('Predicted')\n",
        "plt.ylabel('True')"
      ],
      "metadata": {
        "colab": {
          "base_uri": "https://localhost:8080/",
          "height": 312
        },
        "id": "UYlhg1yHGjEF",
        "outputId": "b40f779f-cd80-4e03-a9cd-48c9b07dc58b"
      },
      "execution_count": 44,
      "outputs": [
        {
          "output_type": "execute_result",
          "data": {
            "text/plain": [
              "Text(33.0, 0.5, 'True')"
            ]
          },
          "metadata": {},
          "execution_count": 44
        },
        {
          "output_type": "display_data",
          "data": {
            "text/plain": [
              "<Figure size 432x288 with 2 Axes>"
            ],
            "image/png": "[encoded data removed]"
          },
          "metadata": {
            "needs_background": "light"
          }
        }
      ]
    },
    {
      "cell_type": "markdown",
      "source": [
        "# Check Accuracy"
      ],
      "metadata": {
        "id": "0NnlV75uGvHM"
      }
    },
    {
      "cell_type": "code",
      "source": [
        "from sklearn.metrics import accuracy_score\n",
        "accuracy_score(y_test,y_pred)\n"
      ],
      "metadata": {
        "colab": {
          "base_uri": "https://localhost:8080/"
        },
        "id": "oDMdIDqAGyB7",
        "outputId": "b5459efd-b328-462f-8b54-48d03c02863a"
      },
      "execution_count": 45,
      "outputs": [
        {
          "output_type": "execute_result",
          "data": {
            "text/plain": [
              "0.8373983739837398"
            ]
          },
          "metadata": {},
          "execution_count": 45
        }
      ]
    },
    {
      "cell_type": "markdown",
      "source": [
        "Applying k-Fold Cross Validation"
      ],
      "metadata": {
        "id": "xL1v-ASHG8gt"
      }
    },
    {
      "cell_type": "code",
      "source": [
        "from sklearn.model_selection import cross_val_score\n",
        "accuracies = cross_val_score(estimator = classifier, X = X_train, y = y_train, cv = 10)\n",
        "accuracies.mean()"
      ],
      "metadata": {
        "colab": {
          "base_uri": "https://localhost:8080/"
        },
        "id": "PKtDBfjcHCWh",
        "outputId": "0f9f0777-9b49-4244-9322-aff4890bcca9"
      },
      "execution_count": 46,
      "outputs": [
        {
          "output_type": "execute_result",
          "data": {
            "text/plain": [
              "0.8024081632653062"
            ]
          },
          "metadata": {},
          "execution_count": 46
        }
      ]
    },
    {
      "cell_type": "markdown",
      "source": [
        "#Using Random Forest Classification"
      ],
      "metadata": {
        "id": "or-zdN6AHJKf"
      }
    },
    {
      "cell_type": "code",
      "source": [
        "from sklearn.tree import DecisionTreeClassifier\n",
        "classifier = DecisionTreeClassifier(criterion=\"entropy\", random_state=0)\n",
        "classifier.fit(X_train,y_train)"
      ],
      "metadata": {
        "colab": {
          "base_uri": "https://localhost:8080/"
        },
        "id": "DnhHD-CLHKv0",
        "outputId": "eac47e19-db48-4d92-913f-1a81b648f87c"
      },
      "execution_count": 52,
      "outputs": [
        {
          "output_type": "execute_result",
          "data": {
            "text/plain": [
              "DecisionTreeClassifier(criterion='entropy', random_state=0)"
            ]
          },
          "metadata": {},
          "execution_count": 52
        }
      ]
    },
    {
      "cell_type": "code",
      "source": [
        "y_pred[:100]"
      ],
      "metadata": {
        "colab": {
          "base_uri": "https://localhost:8080/"
        },
        "id": "FPly-1hWHP7b",
        "outputId": "41ad04ec-5c20-46c4-d62f-a6fe689e270c"
      },
      "execution_count": 53,
      "outputs": [
        {
          "output_type": "execute_result",
          "data": {
            "text/plain": [
              "array(['Y', 'Y', 'Y', 'Y', 'Y', 'N', 'Y', 'Y', 'N', 'Y', 'Y', 'Y', 'Y',\n",
              "       'Y', 'Y', 'Y', 'Y', 'Y', 'Y', 'N', 'N', 'Y', 'Y', 'Y', 'Y', 'Y',\n",
              "       'Y', 'Y', 'N', 'N', 'Y', 'Y', 'Y', 'Y', 'Y', 'N', 'Y', 'Y', 'Y',\n",
              "       'Y', 'Y', 'N', 'Y', 'Y', 'Y', 'Y', 'Y', 'Y', 'Y', 'Y', 'Y', 'Y',\n",
              "       'Y', 'Y', 'Y', 'Y', 'Y', 'Y', 'Y', 'Y', 'N', 'Y', 'Y', 'N', 'Y',\n",
              "       'Y', 'Y', 'Y', 'Y', 'Y', 'Y', 'Y', 'Y', 'Y', 'Y', 'Y', 'N', 'Y',\n",
              "       'Y', 'N', 'Y', 'Y', 'Y', 'Y', 'Y', 'Y', 'Y', 'Y', 'Y', 'Y', 'Y',\n",
              "       'Y', 'Y', 'N', 'Y', 'N', 'Y', 'Y', 'Y', 'Y'], dtype=object)"
            ]
          },
          "metadata": {},
          "execution_count": 53
        }
      ]
    },
    {
      "cell_type": "markdown",
      "source": [
        "Checking Accuracy"
      ],
      "metadata": {
        "id": "idaOcNz-IbBt"
      }
    },
    {
      "cell_type": "code",
      "source": [
        "from sklearn.metrics import accuracy_score\n",
        "accuracy_score(y_test,y_pred)\n"
      ],
      "metadata": {
        "colab": {
          "base_uri": "https://localhost:8080/"
        },
        "id": "CqxoPUx0HTRj",
        "outputId": "cea1a057-bfef-4280-abde-d501d952df67"
      },
      "execution_count": 49,
      "outputs": [
        {
          "output_type": "execute_result",
          "data": {
            "text/plain": [
              "0.8373983739837398"
            ]
          },
          "metadata": {},
          "execution_count": 49
        }
      ]
    },
    {
      "cell_type": "markdown",
      "source": [
        "Applying k-Fold Cross Validation"
      ],
      "metadata": {
        "id": "EY1WDUK9IsPs"
      }
    },
    {
      "cell_type": "code",
      "source": [
        "from sklearn.model_selection import cross_val_score\n",
        "accuracies = cross_val_score(estimator = classifier, X = X_train, y = y_train, cv = 10)\n",
        "accuracies.mean()\n"
      ],
      "metadata": {
        "colab": {
          "base_uri": "https://localhost:8080/"
        },
        "id": "MXDiynpbHn5g",
        "outputId": "74063f87-4080-4b0b-af63-e6b0119f7ff1"
      },
      "execution_count": 50,
      "outputs": [
        {
          "output_type": "execute_result",
          "data": {
            "text/plain": [
              "0.7148163265306122"
            ]
          },
          "metadata": {},
          "execution_count": 50
        }
      ]
    },
    {
      "cell_type": "markdown",
      "source": [
        "#Using Decision Tree Classifiaction Model"
      ],
      "metadata": {
        "id": "HeuDTlvsH-3G"
      }
    },
    {
      "cell_type": "code",
      "source": [
        "from sklearn.naive_bayes import GaussianNB\n",
        "classifier = GaussianNB()\n",
        "classifier.fit(X_train,y_train)"
      ],
      "metadata": {
        "colab": {
          "base_uri": "https://localhost:8080/"
        },
        "id": "_yzqC4yzH-E4",
        "outputId": "1d7c8382-d0ae-476c-cf44-fd0931bcfb36"
      },
      "execution_count": 55,
      "outputs": [
        {
          "output_type": "execute_result",
          "data": {
            "text/plain": [
              "GaussianNB()"
            ]
          },
          "metadata": {},
          "execution_count": 55
        }
      ]
    },
    {
      "cell_type": "markdown",
      "source": [
        "Predecting the results"
      ],
      "metadata": {
        "id": "hw_EmbHFIIdV"
      }
    },
    {
      "cell_type": "code",
      "source": [
        "y_pred = classifier.predict(X_test)\n",
        "y_pred[:100]"
      ],
      "metadata": {
        "colab": {
          "base_uri": "https://localhost:8080/"
        },
        "id": "yBlYbQ_eIJVW",
        "outputId": "0be55fba-06f3-486e-c8dc-2cd87f4ef725"
      },
      "execution_count": 56,
      "outputs": [
        {
          "output_type": "execute_result",
          "data": {
            "text/plain": [
              "array(['Y', 'Y', 'Y', 'Y', 'Y', 'N', 'Y', 'Y', 'N', 'Y', 'Y', 'Y', 'Y',\n",
              "       'Y', 'Y', 'Y', 'Y', 'Y', 'Y', 'N', 'N', 'Y', 'Y', 'Y', 'Y', 'Y',\n",
              "       'Y', 'Y', 'N', 'N', 'Y', 'Y', 'Y', 'Y', 'Y', 'N', 'Y', 'Y', 'Y',\n",
              "       'Y', 'Y', 'N', 'Y', 'Y', 'Y', 'Y', 'Y', 'Y', 'Y', 'Y', 'Y', 'Y',\n",
              "       'Y', 'Y', 'Y', 'Y', 'Y', 'Y', 'Y', 'Y', 'N', 'Y', 'Y', 'N', 'Y',\n",
              "       'Y', 'Y', 'Y', 'Y', 'Y', 'Y', 'Y', 'Y', 'Y', 'Y', 'Y', 'N', 'Y',\n",
              "       'Y', 'N', 'Y', 'Y', 'Y', 'Y', 'Y', 'Y', 'Y', 'N', 'Y', 'Y', 'Y',\n",
              "       'Y', 'Y', 'N', 'Y', 'N', 'Y', 'Y', 'Y', 'Y'], dtype='<U1')"
            ]
          },
          "metadata": {},
          "execution_count": 56
        }
      ]
    },
    {
      "cell_type": "markdown",
      "source": [
        "Checking Accuracy"
      ],
      "metadata": {
        "id": "PydoCO2lIV1L"
      }
    },
    {
      "cell_type": "code",
      "source": [
        "from sklearn.metrics import accuracy_score\n",
        "accuracy_score(y_test,y_pred)"
      ],
      "metadata": {
        "colab": {
          "base_uri": "https://localhost:8080/"
        },
        "id": "34Jc4X-TITWp",
        "outputId": "b457fc9e-f376-4d06-eaab-f4de12c705a2"
      },
      "execution_count": 57,
      "outputs": [
        {
          "output_type": "execute_result",
          "data": {
            "text/plain": [
              "0.8292682926829268"
            ]
          },
          "metadata": {},
          "execution_count": 57
        }
      ]
    },
    {
      "cell_type": "markdown",
      "source": [
        "Applying k-Fold Cross Validation\n"
      ],
      "metadata": {
        "id": "-a4Rg8aVIol0"
      }
    },
    {
      "cell_type": "code",
      "source": [
        "from sklearn.model_selection import cross_val_score\n",
        "accuracies = cross_val_score(estimator = classifier, X = X_train, y = y_train, cv = 10)\n",
        "accuracies.mean()"
      ],
      "metadata": {
        "colab": {
          "base_uri": "https://localhost:8080/"
        },
        "id": "BTgLjhGPIfod",
        "outputId": "0f9de72b-38c7-44cb-f2fc-038db4560c90"
      },
      "execution_count": 60,
      "outputs": [
        {
          "output_type": "execute_result",
          "data": {
            "text/plain": [
              "0.7922448979591836"
            ]
          },
          "metadata": {},
          "execution_count": 60
        }
      ]
    },
    {
      "cell_type": "markdown",
      "source": [
        "![image.png](data:image/png;base64,iVBORw0KGgoAAAANSUhEUgAAAn4AAAD3CAYAAACD8FlZAAAgAElEQVR4nOzdd1xV9f/A8ReHy2WjgAio4FZUVNzmnri1LEstzZaZtmyX36ZWttOsNDXrpznSXJk7t+ZeuBUniooIAl64wL2f3x8MEbkDBEV5Px+P+yg59372+5w355x7cDAajQqLrGwSQgghhBD3AIfs/9PuYiuEEEIIIcQdJImfEEIIIUQJIYmfEEIIIUQJIYnffcWEIf4KMXHXSbvbTRGFqDDn1URSzDlOn77A1eRCaJoQQoh7iiR+9w0DGz5oRXBgBSqUC6LRGytIytxiPLGU794cznPPjeDdies4byq6VtzJukoGy/NaEHELXqJ+pZrUrFmNah0+YqMkf8WaxJMQorDp7H1j2ok/GPn8d6yPTkHnE8az46YyopFzUbZN5IsiIf4KyWaAFGLiEzK/k21g228f8cH4/aQC/HWagLYteaWWUxG04U7WVVJYmteCSU9KICHdDIDxWgIGSSSKMYknIUThszvxS489xb6dBziWApxJ59ildEASv3tBamrqjX8oE+YCHeyvsnXaOObsjiVd50ujx15hSHOfIqpLCAEST0KIwmd34ifuVW40ffRVno/+m6PXHAlsPpg+NQtwxsAYxeZZP/DTegPgRpvyfRnQ3CdX6l9IdQkhkHgSQhQFSfxKAK/GQ/h6+pD7ri4h7ncST0KIwlb0iZ/pChHLF7D43+0cOH2RayngUjqQSrUb06FPX7rVLYNj7s8kneG/lctZs3Ufx89d5sq1ZDR3XypUrUeL7g/zYJvKeOR4u/HI3/w0ayuXzV6E9X2Bxxqkc+Dv2cz6ZzOHohJw9K1Koy4DefqxpvjfUtmtssqLMXvT8NHhPFLXyMEls5j59wYiopJwLF2R+u0f4+lBbQh2zvuzWW15pMIRZo6fzKK9l3Gq0pvXP3+Gxm5Zb77AfwvnsmTDbo5FxZKs3ChTqQ7NOj/EI93r4WehrQlHVzBr5hI2HzpLvLk0lRt1YcDTPS32J+3ECibP3kSUQaNUjc4MHtSKwJxlJ51i/V9z+Wfzfk5eTCDdrSxV6reg+yOP0Km6K6dXTePPnSfZEZ2e+YF0orfO5Nuxy9AcXKnW9Vkeru9uX135XA+FPbd5llkvjX2LZzBz6X8ciU7BrXwdWvUZxKDuIXgBpks7+Gv6HJZvO87lNA+C6ral3zOD6FDJ9dbCC7LeM+V3Xm90qGDrKE/xR1k1/y+WbYng5MVElKsPFao3oGWPh3moZTB59DhvVteU183vvd01UUjzdztxf7v7LEv7CavxlN+5KgaxJ4QoBoxGo7L8Ssl+xW/4n2rqggIUukpq2ILYm7bn9Uo6tkCN6lpFuWmZn8v10tyrqd5jlqszhhz1bJug+tfxVloe7weUpiunOn64QkXl+EzUlEeUFyhwV53G/KkmDA5TPrnr1LxU2LBZ6pjBeptvLs9T9fhqsfr56UbK95by3FS1fuPV9lhLn3VXnT6epj7o4K90WZ9x76bGHb6ujMYUlXB4rnqjXXmlz2tsNC9Ve8APaktM7rZdVycWvK5a+elyfUZT7iEPqsc6lM0cN035DJqurtzSJpSu6nC1OEebY/f8poY19ctzvDW/durTjZHq18dKWZwPcFMPfLRJJdhRV0HWQ2HP7S1ljv5TjR9cT3nnLlNXXnX7coM6vnqs6lvTM1f/NaWv9qiauOfaba/325nXgqwjq/NzeKYa0czCWvDqpr4/mGjX+NpeU3GFtyYKcf4KGve3vc+ysp+wNF/5naviEnvykpe87tbrRm5XdInflXXqk/Y5dkyai/Kr3lA1bVRDlXXRcuygK6rHJh9UScYUZTReV4fHdVPuWQe9cqGqdZeeqnf3dqpeoEt2WZpnGzVm642d9o0dlE55+/oonYWdG/o6auTSGJsDlLM8Xz8/y+Vp3qrj2G3ZSU/uz/r5+918QPbsocYfua6Ml/5V77f2zj6Yl6oVroa8NFK99FQ3Vccnc2w0d9X47ZXqUo6yDcemqccr5U4O8nrZmfhdWKreaJzjoKjpVKlyVVRlf8/MPnupflMOq9lPBVhO/DR31fHL3ZnzZ6WuAq2Hwp/b/JSpeQep4FuSsayXTgU/PVNF3dZ6v715Lcg6sjg/hjPqjyEVM5MPTXmHdlfPvvq6GjnscdWlfoBycWutRm+9Znt87VpTUXdkTeRr/goc97e/z7K4n7A0X/mdq2IUe/KSl7zu1utGbldEz/FL48Tsb/lhfQxmQHOpzeCf1rF/3xY2btnP/g0TeTLULeMhgulnWPTT/7HNAOBImWphtOnxPF/M2cTBQztZvXgecxcsZ8uaH3gsOOPKtPn6Hv7bdoFbv+CWTlzsVcy+zRk6/h92Hd7Hvz8/TX33zG6mHmf1mj0Y7O5HOrExMVCmJcMnruZQ1Fki/v6YHkGZV8jNcWyc+Wdm22/9bMylGFK1CrR/8Vt+mz6RL9/pR7MAM5FzxzFxcxxmNFzCXuC3ZQuY9PXnfD1xHv/8MpQ6esB8nb3Tp7MqJqs8IxF/TmPB2czLrfqq9P1iOUdjLnNi3WRebF02n9ft0zg063um7k7MmCP3ujw1aRNHThziyKmjbP9zDP0bBOHrXYbuH69ky8Y5vNYs6xq1C01Hzmbj5k1s3rSeiU/Vxvot5wVdDzePZ+HO7Y0yKdOa4ZNWsu/Qdv4a1Qn/7Ok9x9lYCOr8Jr+v28/BLTN4taVP5sMv07mwZgPbk263fwWd17QCriMLknexaf150gFcmvDiT3/w4xefMnbcVBb/t4tNf75Hj2q2vsVv75pyvs0xK+z5u7Vc++P+9vdZee8nrFw7zddcFdfYE0LcLUWT+KWdZuWStcSaM6oo0/tVPhgchk/mvsy7/uN8+Fqf7B10ytGNbDpkBMCr04csnD+OVx9sSGCOm1ScKnakTcPMH5jTuBxziRwPOrjRIc8mvDxlFt8/35HQKjVp9eS7vNCldPbO/szZs1zPR1c0z0YMnzSdr59qRVW/stQIf5VPRrTGM2ufd2InO04YLXzYm1Zv/8r0b4Yz4NEhvPJGf8L0Uaxevi5zbFxo3v8pOmbftONIYMc+hFfTZ7T2yi52RRiyx3TT+l0YMsfUr/trfPZSOyp5eRH0wCC+nDGVl5t62j+haZH8u3wz18wAOgIfep2PHs+cI0cf6vR6g983b+fbnp44+9egQf3KlHHJ7hguZSpTv3FjGjcKJdjLYi3ZbS/oerhpOAt5bgE0rya8NOX/+HpIG0Kq1qPnyJd4pLI+u59+7d/n9/8bTf8HalCt0SO8NbwXAZntTI89R9QV0+31r6DzairgOrJCqcz/ST/DzvU7ic76MyGOvtTt3J46njYKyMeaKrQ1URjzl4f8xP3t7rPy3E/YuJnS7rkqxrEnhLg7iubLHSmHOLj/OhmPiXWlUYuW3PwLrCNlmzclzHkW0elAynFOnjFC4xxnFIyxnNi3l0MnzxNzzUCqKYUDF2/spNPS0smLVrYJHVoF3rhJ2dGXypXLoeMqqZhRyckkm8DiHfa3lNeMTm3K5Xi7M1WbNaeGfi27UoDUM5yNSod6t54N0ZXvy8svtcEv5w+TD3PooCFjbDQHkvbNZezHf93YruI4lPXXFNKjuRSTCriBMZLjR7N2yK40bNOGCjn64BjQgpYNSjN+e2LmuNuQcoTDB5Kz56hhsxa3fgnA0dHeYbJRVyGsBwp/bgE0vya0b5mjTJdgKlZ0guOpgJ6qLdvTMMfjCt2CgwnSwYV0wJyCMcV8e/0r6LwWdB1Z4hpG85YBTDkdRXr6RZZ92INmf3Xlkf6PMqB/L5oE2vHMzvysqcJaE4Uxf3ksmALFfQH3WXnuJ6zJz1wV49gTQtwdRZL4mRJiuZKYeZjS9Pj6+t1yKdDJzwcfnQaYwWzkelIK4AVp51g78XM+/2keG08m2JfEWOWATqfLccZEoay82x46Pz/KZO3gzIkYDBZaqXfGJXfHU+OIi808AJivs3PWF+y0VlnWr/ZpCcRfyxpTZ/zK+tu4vGqdKSmOq0lZ5bng4+tdZPvs21oPVhX+3IIjjg6Wt2qaI445T7+p213vBZzXgq4jSxzL0fe9sWw99gq/7IjFbE7l0t7F/Lh3CZO+acCA977i8+fzSORyyM+aKro1kf/5s5fFuL/dfVZe+wlr8jFX91bsCSHuhCJJ/Bx1jmhZO1+zidTUPP60vDGVVJW1Q9Lh7KIHEtny9TMM/GQDV82A5kXlJi1pXMMfT73i3KZZrDqa58WSO8qckoIxay+nueCsz8cVcwcNBzJ3spo79Xo+QcvyeR2pHNA8a/FgO6+sf6JlVWNOx5hSmOOQitGYxxwVkoKvh3vDbfWvoPNa0HVkhXO1Rxi3pC5dZ0xiym9zWXkwhlSzmfSYXUx/81kcfJcz8bFgO39BsL6m7sU1kXfc3519lt1zdQ+OsxCiaBXNpV53P8r66CAhHUjl1KnjJON703Olko+e4ETW/lBfiaAKzpC4htm/bcncgfrR5bOF/N/IRpQGIJYZgxbc+cQvNYXkXFUmHDnMsayf6crj75+PxM/ZlzL+GiSYwaxRueubfPNMBdsHU30ZfP10EJcKpBJ54ijJlMkxpgauG9LsPtvg6FmGMqV0kJgOZiMnThwjmeZ2P6dNmfPx+31B18O94nb6V9B5Leg6sqV0Tbq9+C3dXhjFgaXT+Pz9z5h/2IA5/TSL5q/mg0eeJshCJflaU8V9Tdgb94nr7t4+y565Ku7jLIS444rmyx2udagXlnVDegoRi/9iY0yOm6hN0aycs4iDKRn/1Ac/QIu6rpjio4nOunzlUoOWbUIzd6BA2lWuXbvzf6gy/fwcxrw3i8NZ98Yb9jF7xnIuZjZTV64hDWra/VhbcK5FaF2vzLG5zpblS4m052Sbcw1q13bPHtMDf89jzaWs8Yhn79Q3GTP3sv2XmVzrUDfsRnn7F8xmdXSO8TWeYfW4txm3LjHj35oeJ6esUwfpXIy+mPeN6hbqKsh6uGfcTv8KOq8FXUcWGYiNTbjxT0dfQnu9wsdD22QmCWbS4uOJz/s2tQz5WVPFfE3YG/d3Z5+Vj7kq5uMshLjzCnbGz3yRRe+Fs/PTnJeWHNB8uvDxH/+jg1cFujzUgwpLZnA2HVIOTGLYgOs8/2hLgl0TObFuFr/MPpKROGjetHhyIG28wJGy+GedMUiJYOnsf+hRoT1lr+5m3rgPGLPqLnxvzHydiN9foOfx1TzSKoDEHQuZtTYm80Csp2bvXrQpbaOMnBzL0blPd8ovnsG5dDMxSz7kiWdiGN6vJTX9XTEnXeHssX1sX7+KdQ4DmPv7UKo5AY7ladelHWUWL+CyGVIPTmbEo9fY2KkypmMrmDN/N5fS83F3kWNFuvTujP/yeUSnQ+qhX3i+z0XW9myIv0MMB1fPZ8H2BDp9N4wX23ni6OSHv78bGtcxk0rk3E95yXUHQYYzmFu+zyf9Klo+2+RYsPVwz7id/hV0Xgu6jiyJXcwbjUZzseeTDOzdniY1/HCI3s7vi3aR8dUTHb5Vq1De2smgfK2p4OK9JuyMe0ftLuyz8jVX93nsCSHyLR+JnwPZaZ45hejDu4jO/RZPP45dMdHBy5EKD7/NR//u4sUZhzGYUzm/8Vc+2Pjrze/X9FTp8xFjhzXK+E3VqxV9+tXhj3H7MJgT2Dp+II3GZ78Z97Jl8b5ymbjb/8aH3TR3X7wd44ja9Affb7ppCy4hj/PuC+1s3gZ9M0cqPPQWH63ayUszj2Awx7Fvzmien3PrO93a9uTG90YcqdLvZV6cvYmP1sdgzvyzad9tzWqON2E9m5K2ekX2b++22lHp0bd4d9lO3lh0mlSzmdh9C/lx38IcXfTG3c01M6ErTYuOHQmcM5vz6WCO2cGsb3YALjQr8xypVLRymbiA6+GecTv9K+i8FnQdWWA2YTKcYs3kD1gz+dbNml9bhj/VGZ9bN93UJvvXVPFeE3bH/d3YZ+Vrror3OAsh7jy7L/Xqy9ekXmWvGzei51GUrnQA/qUyz/s4VefxcfOYNXowrSrlfg6ZhmelVgz6aCaLpjxPg+w/YulD5/d+4YcX2lPZ88YnNL0fDR77mOlTRlDXVQPNETdX5+wyde5eeOo0QMPZyxNXx5vrcvXwQq8Bmg43Dw/ycweLFtCPr2eM4bF6PuiyKtS8qBb+EhOnf0G/Sjef57LelkzONXjih7+Y9elTtK1a6pYx1TQvgps+yPNDwrnpmbmeD/Da5Kl8+FBtvLM/o+FWoQVPfTWbuZ91o5JrRt0ebm7ZibrFNrnW4/mJfzL5tV7U8dXnmCMNl3KNePjNcbzVOyDzZ44EPfo+377SgcruOd7pFkTdkGD0tuoq0Hoomrm1WqbmjLtX5gNtNVc8Pdxuaqvm6o67s5bZd0/cXbTb6h9Q4HktyDqy2Hef9gx6vS8NA11ubrvmRdX2z/HNzCm80sTd5tjma00VxZoo6PzlYn/cF8U+y0Zf8ztXxSj2hBB3n4PRaLRyl34hfUHfeIXIA4c5eTGeFOVMqcCq1Aqtip+VPUVS9AH2HThLvNkN/xr1aVA549EQyXGXuJamp1RZ75tvUI6/THyKA+6+fnjdckkrjcSYWJKUM6VzfS4vMdOfoPaz80gAdFWHM3/7t3Rxusyh7Xs4dd0J74p1aFDL32I51tuSu2lxnDl0iOMX4khO13ApVZag6jWpHuhp5Ub9ZC4d3sP+k/HgWY6aYWHZD1E2xl/marKGR5kyeOao22abEs8RERHJxcR09KXLUbNubQIsPPYtKfogEUejSTK7U65WPeoE3pwQ2Kwrn+uhMOfWrjJNBq5euUaazosyvu63zIMpKZYriek4eZbBxyOPWSrAes9sVb7nNVs+1pHVvhsuceTAUc5dSSTNyYuAqrWpU8W3YAf1fKypQl0TBZy/2437wt1n2fG+gsxVMYg9IcTdcOPWvDuT+N1j8jwA5D5LI4S4r0jcCyHuXzcSvyL6W71CCCGEEKK4kcRPCCGEEKKEKJoHON/jPOp0YvBAM+cMGqVqt6KK3LUsxH1P4l4IURLIPX5CCCGEEPc1ucdPCCGEEKLEkcRPCCGEEKKEkMRPCCGEEKKEkMRPCCGEEKKEkMRPCCGEEKKEkMRPCCGEEKKEkMRPCCGEEKKEkMRPCCGEEKKEkMRPCCGEEKKEkMRPCCGEEKKEkMRPCCGEEKKEkMRPCCGEEKKEkMRPCCGEEKKEkMRPCCGEEKKEkMRPCCGEEKKEkMRPCCGEEKKEkMRPCCGEEKKEkMRPCCGEEKKEkMRPCCGEEKKEkMRPCCGEEKKEkMRPCCGEEKKEkMRPCCGEEKKEkMRPCCGEEKKEkMRPCCGEEKKEkMRPCCGEEKKEkMRPCCGEEKKEkMRPCCGEEKKEkMRPCCGEEKKEkMRPCCGEEKKEkMRPCCGEEKKEkMRPCCGEEKKEkMRPCCGEEKKEkMRPCCGEEKKEkMRPCCGEEKKEkMRPCCGEEKKEkMRPCCGEEKKEkMRPCCGEEKKEkMRPCCGEEKKEkMRPCCGEEKKE0Fnf7JD9f87OzkXcFCGEEEIIUViMRuMtP7OR+NkuQAhhnbOzs8SOEAUgsSNEwVk6YSeXeoUQQgghSghJ/IQQQgghSghJ/IQQQgghSghJ/Aqb8SB/vPMsTz73CQtPpYEpht2LfmXSb8s4GH8b5RZWOUIIIURe7onjTAIR8z5leP/e9Or7JB8uiCTNno8Z9/HbyEEMePJ9/jpp4RO5j9/3qcJJ/NKOMnlQXapUbciIPy9iKpRCC4EpinmvtqFeaB3q1AkltG4YTdr0YPAb4/j7UBGt6rQodi6exew/l7P3Qjqm6MWMfXYEL78wlPFrEu0rIzmWqDNRXE3O0ZWClCPuKVdXjKJdSGUqVa5O0xdmcqbYBJIQxZvETuG4I8eZPPMFA3t+foLG1SoT0u0L/ku2/HHDlu8ZPnQMUxetZeuWlSzactK+xC8tij1L5zN/4b9ERKdbfE/O4/f9qnASP7OBqxeiOB91lui4lEIpslCkxxAZEcHR46eJU+54uSmuHFrDnB/eYeBDw5l6uOgzesdStWjdowPtuvSlVYjejk8YWPNxJ2rVqEOvr/4ja/3nvxxxb4lhzfzZ7Dh1gegLZ4lY8BfLT9+/v3EKUXgkdgrLHTnO5JEvJG7/kXdH/0VEtI6Gj/SmoaulDxs58d8mDlwHn17fsf3cSTZ+0Aa3omnpfStfj3O5PWnERu7n4Jl4zK4B1Kxbh0CPXO+4epIDh88Qm+JI6Yq1qFvNjxtfRjaRcPEssQ5+VPb3wBC1n13H43CtWI8GVbxxtFq3K81fmcPc5ythPPY7I/oMZ+bJf/j1zx0M/LAZadnlpnNy217Ou9eiaah/Zt0Gog/u5cjFVFzL1aJ+LX9uWZOJZ9m7J5IEjyo0qJFrm2cznvpiAt1TPAismPur1Ymc27+fE1cUPtXrUz/Ik+SrV4i7bsSMGWNSHJfOR+PpHYivxXKsjevtjJm4oy6vZfnKi1C2DR0q7mTdrg0sXXGKp4fXwOmmN966ZrC53UTixbNcTitFhSCf7JhKunSKiykelKvoh9tNa+XWOLAem5brNsSc4cI1B7yDgvHN/oCBmNMXSHQpS8UAL1mH4vbYHTtgPX4KGjvAbcdPYcSOvW3NeG/86X3sj7yK8gymdv0a+DmTx/HK/mNIWtwpDh6K4rpzGcoHeKLDASd3H/y9LWZxAJgTtvDDqG9YH6enzrNfMnZIrTz2LRmSr17m/OU4zGh4+3vD5SQI8MvZCpt5xi2sHb/vV0ajUdnzAixvT9iqPmnlpsBT9Rh/VBlybU84Ml/9r3ct5a2hAAWacgtqo4b/ulNdMRqVMSlCzXixnarsqWVuR2k6HxU2eKLaGZdZTuxC9UIVnXKpP0x98fFDqpZXxns1t6qqz7cbVYzd7YpSU/p5KdCp8s/NVbFZ5dZ7Tn04vKny0VAuYW+pf+ONKv7ALPV6p8rKPavdmpeq0fsTtfS0IbuOqH/Hqt7V3ZUGCq2UqvvI46pTOZ3CpZF6d028MsYuUsOr6hQuTdX/NsRnfy5+3wz1ctsg5ZJZtuZeWXX99P/Upx3ds8cg4+Wm2ny6XSXkUY7NcS3ImMmr0F9WY8doVEajQZ2ZNkD5azpVbtBvas3YDspd05Rn56/U3qQb78tzzYzdoOJtbb8ySw3x0xTuHdUXe5Iyyotbol6qoc9YT+vjb6yV3HEQY0dsWqr7sznq255eStPcVatPtqiErPeueUc1cEHpa76slsQV3jjL6/57FVbsGI3W4+e2YsdovK34KbTYsbetSUfUnJFtVHmXzDZpOuXX/jO1OcF46/HKrmPIFbV94tOqiZ8u4zjIjeORe/uxaldCrnbmPC6P261WjWqhvDRNebd8T628YGWukyLUt+G5jo+6amrE37HKaLTneDhfDauU49hstOP4XQxioCjip+i/3GE8wNSRw/hs8XHcWj3Lh199wf8GN8UjegMTR77GxF3JYDzGxhXnqdT3Tb748RcmfjOCtn4J7J35GZNWZ92LZ0aZITXiF979dDuluwzmsdaV0KdE8vfnE1gcbedNHYmHOXYiFdBRIcAfx6xyD/3OpxOP4N2sA02r+eGeFsHU11/mu3XXaTziJ+YtnMFnj5Tj7JIxjPxiObEAhi38/M4nLDlupEyz/rw4vDseW+aw5qZ7A0yYTRn/NWX92LiXSa+9zIT10fi2epp3Px7F0Hau7N8bS+VOA+gZ5oOGDr/GvRk8ZCCdapdBl7sce8a1sMZMFC3TRVYt/5cYrSwdO3ekcXg4zVzh+palLD+S+fBaS2tmzwkMNrebMZsBZUKZzRnlmc2YTGbAhMkEWIqDdDti01Ld+67RtHMrSnGdnf8sY28yQDJ7Vq/icIqOCm3b0Fiu0YjbYU/sgPX4uO3YgQLHT6HGjn1tNWycxMc/biC2xmDGzfubeZPHMLC2e8Znbzle2T6GpJ2YyehRv7HPqxcfTZ/HjM8eJUSvoa/RnaGPNSPQ4h/9MnN97wTeHb8VQ0A33v/2Tdr6WplrzZuQDgPp09gPHRo+YT0ZPLgPjco52Xk8zMWu4/f9qcgv9SbvWcDMtZfBry/vTx7PU5UcIa0LpaJb8/aq7SxZHsGLjbrx2daOeHhknRKOx33PbNbPiOX0mYukUTr7lL1ZC6DX2AVMG1Eft/MzeKr5c8xJOMrRE6kQaOmUchpnN07lyxhF1NYFzNqXguYXTr/eYbiyOqNcsxP1X5jGvK96UsERkreN4ZX1MehCRvLuR8/Q3gOMFc6xcsm7bFmzjt2GHrTavZylEQbw6cn/fp3C89WciHu0NgMf/JA1BitjsmsRczdfhbKP8MHUCQwJdgRe5q3zivLlnfG6sIGVew2U7/gK4z9plXFpOWlv/se15u2MmbhTTOdXsmzNFTS/gXRuXxZn73C6NBvNunXbWLr8MMPrhmG2smZ8sb6mfPnX7rbkjgMwUd1GbKZbqTvAZKbDmOX8tW8py3a/TrPGEaxdc5AUXUXCu7TCu7AHU5Qo9sSOM9bjw23X+EKJHch//CTehdgxXYsnNh3QuVKmWhO61wqn1xOZG5Ms9MvKMcR4/QgHr2n49X2cEY/2wiPJiS1T53MitQKt+7XAci5n5Oiq5cReB121mtQKypXJGmI4F3MdkwJwQOdZlo4jv8I5bgcrdl6jTOthjPu6M25A8lb7j4dZkgt4/L4fFHniZ4g8ztFUcAlpQFhg5h0BThUJDQ1Ct+oIZ6IukE5TTOfW8POs5Ww9fJpL8QauRF4HHElPz3VWShdIaFgNPAG8gwny10F8CqmpykorUoiY+yURAJoL5Rr1550PP2FYPecbC10fQteHO2YGK6ScOsGxVEg/O5dX2q7KSDzNCZxPgfSYOOJNkHLuDCdTwaVxU5oEZaSm3nXqE+KtWV04hlORHEsFl5r1qe+fdZdEacqXB7Bvxdk3rk63MWbizjBxbtVy1qQ35DEAACAASURBVMWCZ+ca+JzcylbMVKgTgn7NLnYuXU7Ey2FUtrpmbKyp/Hw5L1ccgCPpNmLTat2mbvQOD2DRHwdZunwHr7n9x5r9KegqdSa8laR94nbYFzuNna2v0dh1hRQ7kO/4uRux49aiD/3D5vPD7p8Z1HwRDboP5IXXXmVgEz/L99taOYY4B1ehqruZ9Rv+ZPJ8Zyqfncm/58y4tqxE0K03WebgSoOhb+M/402m7ZvEB9+HEza6PT4AGNn/8+O0fW995hFRw7P7d2yf92SeJeXreJipoMfv+0GRJ35msxnMgFlhvunnJkBD56Qj/fg0Xur1In9d8qfpg714oJkHF1P2c/C87UuRDg4Z/1VWcxg32rz1G+93DaBUQBVqVPW79QsauSiTGTOg8w+jy4MNKOWQXSNOfs1p6gJms0IB5vR08nNy2JRuynNM8sOecXWw8Fn7xkzcEaYzrFi2njizGfOKD+i5Itf23f+wbO8rPG9jzdi3phTmfC64tOPTeNFGbFqt2zGAzn16EDRnMof/WcI8933sSdFTObwrrUvnry1C3MTO2GnczNXqGi2q2AHb8ZNeJLFjva2O/t34dMES6k+ZzO8zF7Jx/tcM2xpJ6srpPBNoX79yHkOcAupSv5qef/fM473H/8Rs1vCq2ZtRo56gjsXLvJnllA7nrXd3sP65Gez6+QO+67SI0W19AB1+dTrx+JBKpGae8XOuU5NSjnAhj3IKcjws6PH7flDkiZ97UBDBejh0ZAc7z6XRqJoTGA6yfec50jU3QmuFkLT5D1acT8e9xztM/20owY5xzBs6nTnbLZx3zjdHPCvUp2XLSnZ/g9A1qCKV9HAw3Z8Ww/7HQ363vsdQvjxBOjh8bBe7z6bRtLrGpW0b2RNjfQ/hUb485fRw7PA2dpxJo1ENJ0g+zebdRhq2DMJBcwDMJCcnYyk3s2dcnTlqZ2/F3ZJ2ciXLN1wD90Y8NqILVbMiUiVxYMFEFh/Zz7JluxneytqaqWl9TdV3wdVNg2vnOHUqCerpOP/fepvrFCB280qbsWl9PdfEt30vulf9nR+PzmbMxDiSdZUI79oSryIaU1Ey2Bs7bzRraXWNhhRR7IDt+CnU2HGwv61OAU15/H9NeXzEk3z0YC8+376BrftS7E78bjARvWQK0/ZoNHvvb8Z1cOKaox816tUmwK77dzUq9nuHt5au58W5O/n5/XF0XvQxbbwdCez6FhO65n5/3g/4K8jx0LWAx+/7QSEnfslsHfcYbf4vo1gHfT2G/jCQhxpN4dB/yxg9eAjHO1XGuP9vZv1nQFftGQb1qoznHl9Ka3Bh3zKm/u5KYORCJsyNwWzzvFzRcW3cg4caTSTivz9490kdh7rWorTpKmcPbiUi4CX+HBOOR8POhNecwMGIFYx5YiC766ay65/VHDFoaFZG1q1ZT3qHTubr3cv4qH8/drcuR8LuZawLGMWO5oPwDwhAx1Ei537C03F/ENxuFJ8+mKuMpr1tjquTJH7FXBonV/7DpkTw6DKI9z94gerZVyOS+U/7j5Wf7uDg0uUcHGFtzdQkyNqamt6O2vU80c6dZvrrfbk4Q8+RdVs5k6Kh2fh6l4uv7di0vp5rEuTVkgd712LqV/s4Hw36muF0fUDSPnE77I+dHW+1pI21NTq5aGIHbMdPocaOc4hdbb08/Rl6/elG7x4NKZe6n//OpKK5hlGlYkGe2+eIs48vProUtn07hP7zAynl7oandwVqt3mMYcN6Uyv3E6dyc6rOwFFvsnTTayze8RPvj+vIwo/a5OsexoIcD90KePy+HxTOt3o1T3x83NFp6cRG7mXnzp3s3LmTXfvOcNWhOa/8+AMvda6Ecc88fvjiK35ZcQ7fVkP5bupoHq7gSOlOw/lwSGO8Lyxn7AtDeXt2Ah0GdSVQl3GKNqMOPU56DU1zxlmf2WwHHfrsn+V1YdMJvd4RTdPhrLcwk3mVC+DWnJd+mMArnYO5unYyn7z5Kq+9M4aJK6LxLu+bcbeAV1te+/oDetdwI3bvYqbPjaDUI9/x5ZPBaDjh5GShfM82vPbDVzzVPIDkw8v4feI0lkUF0btbY8o4OhPy0PMMaeyLOXo7C/5YQWRSHuW4PWBzXAs2ZuKOMV1iy8ZtJOFL226dqHTTLSiuhHXpRpi7RsrxjWw63czKmsH6mnKpxqOvv0uvGu6kntvKP6tPU37wBL58ohyapkev1yzGgV2xaXU9A3jQrM/DNPHSAD1VunRF8j5xW/ITOweN1tdo6duMHSh4/BRm7DjZ11aPKrXwOz6LMa8MY9ibE9liqs+A0WN4tqHzrf2w4xjiElyb0HIaujLVqVc3hCqBrlzZs5CJHwzh+e//u/UcnabHxUWHpjnh4pyxD3GuNZj33+xCoJbE9imT+TvK8m1eTnpnNA30TjkmvSDHQ3uO3/cph8xnvdjk7OyM0Wi0/UaL0og7d4IzMUb0vsFUr+iT61ZLE/Fnj3DqqiMBVUMI9EzDkJCCg5dn9rkFU3ICienOlPbM8Vjn5AQS0pzw8nLN+zJuWhLx1zXcS7vl8TBPy+XmbFfC+ROcupQEbn4EVQ7GJ/fbki9z4ng0aT6VqVHBC8c0AwkpDrh7ZrTJcvlJXDwWyYVkN8pXr45/zlPjaVc5c+wcCc6BVK1WFjeL5Vgf1wKNmShU1mLHlJxAglGHV2m3POciOfEqySYXPLPXr5U1Y2u74RLHj0djKluVkEBPyFynXp6u2W3Je53ajk1bdZsuzmZoi2eYEVODVxds4ItOtk4DCFHYsQPW46fgsZPVnoLHTyHGjh1tJS2Os8dPE5PqRrmq1Qj0vDGCufth/RiSxLxnmzDkj3T6Td7BtCcCcSSNg9/1pvU763B8dDKHpj/BLXdKpSURfx3cS3vcdLwyJsaR7OBBaQ9rWZeRxHgjOk8vXG+Z+PwfD20dv+9lluLnDiZ+QpRMEjtpnJw8kFYvLyax1kgWbRhLB1tP0xcCiZ3iHzuXmDmkMc/Miqdi5+d4pmctvFJOsfq3iSw56k6P71cx6/kQiyddRNGyFD/3+ZVsIcRdl3aWlUvXEUcpmjzUk+bF6sAlRDFW7GPHnwffGcex9HHMWT2ZD1alguaOX52WPPf1G7z1rCR9xZGc8ROiiEns2LqdQoi8SezcQ7GTlsTVuOuY9F74lZY/DFAcyBk/IcRd4+jqhTy2T4j8u2dix8kDn7LF7pSkyEPR/61eIYQQQghRLEjiJ4QQQghRQkjiJ4QQQghRQkjiJ4QQQghRQkjiJ4QQ4j5gIjkhAYPlP/pw7zPu47eRgxjw5Pv8dTIt42emGHYv+pVJvy3jYLylzx3kj3ee5cnnPmHhqbTba4M99YliTRI/IYQQ9yzj2fVMfL0fraoHUMbfH7+AmrTu/w6/bY/hrueApij+eK4uVSqHEP7ZZgy5Nht3fkef2pWp2up91uTemJe0KPYsnc/8hf8SEZ2eUUX0YsY+O4KXXxjK+DWJFj+3c/EsZv+5nL0X0u1vf3IsUWeiuJrj767ZVZ8o1iTxE0IIcU9KO/0Xbzz8CCMnLGbXRScq1m9MvQAD+xeN491Ja7nraYmjH7Wq+RF34RTbFi5n503JnZH9KxexIfIiadVqUbuAj+lzLFWL1j060K5LX1qF6Auj1ZkMrPm4E7Vq1KHXVzf+5m7R1SfuFHmOnxBCiHvQZf756n1+3Z+AFtyLMdN+5MVW/jiRwLFlv/LryUD0mEi4eJZYBz8q+6dzcttezrvXommoPzfyrDRiI/dz8Ew8ZtcAatatQ+BNj6MzEX96H/sjr6I8g6ldvwZ+zvZsA3CmTucuNBy7mU1H/2XNnvdo0zLz4cbGw6xbuw+D5seD4R3wy/GHYdOunuTA4TPEpjhSumIt6lbzw2Je6NmMp76YQPcUDwIr5nhX4ln27okkwaMKDWrk/VFr9SRfvULcdSNmzBiT4rh0PhpP70B8LdVndRxzzoMHhqj97Doeh2vFejSo4n3P/03ce42c8RNCCHHPMUUtZe6CU6RrXrR/eXRm0gfgRY1urzJ2RGvcklbyQftQwnq+w2cje9GyXRd6PjOBHZmnr4yn/mF0vybUCW1B527d6dKuMbXDOjPyj4iMs4Vpp1j4Tlca1m9J5+49CG/bgAZ9vmGn0ca2HJzrdCa8oRukHGTN2v3ZZ87STqxlza4UNP9OhHf0y0h+0o4x9/Uu1K1Rh+YdutKje2da169Hm+emEWHpUnDSKt5vH0rten35ZltG6TGbvqPfA2E80LkrnVs2of3zcziW43KtzXrSDvPLE2EM/CWSdFKJGPcQNavUpv9P+zDmUZ/Nccyah16j+H5sf1o0aEanruG0btSSAT9uJ+H2loLIJ0n8hBBC3HOMhw+wP9EMLqG0alHFwt+ENaPMkHrodz6deATvZh1oWs0Pdw0wHmDqyGF8tvg4bq2e5cOvvuB/g5viEb2BiSNfY+KuZAwbJ/HxjxuIrTGYcfP+Zt7kMQys7Y7ZjNVtN3GuQ3h4Q9xIIWLNOg4ZAdI4ufZfdiRr+HcMp4N/5jkv4zE2rjhPpb5v8sWPvzDxmxG09Utg78zPmLTa0jcpTJhNGf81pQOGLfz8zicsOW6kTLP+vDi8Ox5b5rAm5719turRfKjdaQA9w3zQ0OHXuDeDhwykU+0y6HLXZ8c4Zs9DxC+8++l2SncZzGOtK6FPieTvzyewOPqu341ZosilXiGEEPcc07VrxKYDzt6U9rF+KDObnaj/wjTmfdWTCpk5VvLWBcxcexn8+vL+5PE8VckR0rpQKro1b6/azpLlEQypHZ9Rh86VMtWa0L1WOL2eyPh84jXL227mTO3wLjQau4mNe1az9sirNKodxdo127muleXB8A74Z73Voxufbe2Ih0fW37qNx33PbNbPiOX0mYvY833c5N3LWRphAJ+e/O/XKTxfzYm4R2sz8MEPb3yBxFY9jiF0fu0ruLCBlXsNlO/4CuM/aYUrQNLem+vbY3scX6yZOQ9aAL3GLmDaiPq4nZ/BU82fY07CUY6eSIVA+fu+d4qc8RNCCHHPcXBxxU0DTEkYkmx8U1UfQteHO2YnfQCGyOMcTQWXkAaEBWZucKpIaGgQOlI5E3UBpxZ96B9WitTdPzOoeUNaDxjF9B0Z3xZ2s7ItN+fanQlv5AYpu/h3zQmSz69lzZZEtLIdCW9fNsc7HUk/t4afP3iJJ/v1omvnh/ly7XUA0tPtOyuWcu4MJ1PBpXZTmgRlnAf1rlOfEO+ch/vbryc/45g9O7pAQsNq4Ak4egcT5K8DcwqpqSpfdYrbI4mfEEKIe45TxUpU0QMph9m7N/+PbjGbzWAGzArzTT83ARo6Jx06/258umAJU94fTOvySeyZ/zXDHn2J346n4Whl2y2caxMe3gg3czI7/v2X3WvXsuWaRtlO4bTLkfelHZ/Gi70e5bXv/uG0SxXCmjUntHz+vjlrNisUYE5Px1I6XBj13KjP9jg6WPisQ+YGJXnfHSWJnxBCiHuOc422dGzojma+wt8TvmLhiRvffkg4uoxf5mwnycrn3YOCCNZDypEd7DyXmawZDrJ95znSNTdCa4XgDDgFNOXx/01m5eYFvN3cjfSLG9i6LwVsbMvVWmqFd6Gxm5nrWxfw+ay1xGr+dApvT87zfbGbV7LifDruXd5h+m/jGDvmDXrWyt8lUNfy5QnSQeqxXew+mwaYuLRtI3tibqRl9tbjoDkAZpKTk7GUm9k7jqL4kHv8hBBC3Hucwxjy5nMs2j+eXXt/YXCbNfzYpCalU8+xd9t+Erv+TJ8efhY/7ta0Nw81msKh/5YxevAQjneqjHH/38z6z4Cu2jMM6lWZuOnP0OtPN3r3aEi51P38dyYVzTWMKhX1XLayLc/m1gonvPFnbNiwhVXrQVd+MF3a3dw+F19fSmtwYd8ypv7uSmDkQibMjcGM/cmfW8POhNecwMGIFYx5YiC766ay65/VHDFoaLr81OOIf0AAOo4SOfcTno77g+B2o/j0wfyPoxNH7W6/KHpyxk8IIcQ9yBH/rp/wx4zRDG5dEbe4E2xe/jf/rDuOQ51+vD64PWU0PU56DU1zxlmf63Dn9gCv/PgDL3WuhHHPPH744it+WXEO31ZD+W7qaB6u4IhHlVr4HZ/FmFeGMezNiWwx1WfA6DE829DZ6rY8OYfQpWdLfDRA0xHUrQdtc+WlpTsN58MhjfG+sJyxLwzl7dkJdBjUlUBdxiVT8upP7p95teW1rz+gdw03YvcuZvrcCEo98h1fPhmMhhNOTnbUk9FgQh56niGNfTFHb2fBHyuITMqjPjvGMc92O+jQZ//M0sVgURQcjEajXVfXnZ2dMRqNtt8ohLiJxI4QBWN/7JhIiD7J2cvJOPkGU6VC6ezHu5iSE0hMd6a0p6ULjmnEnTvBmRgjet9gqlf0ufnRMGlxnD1+mphUN8pVrUagp6N92yy00xB/jRSzDtdSXrjm+XYT8WePcOqqIwFVQwj0TMOQkIKDlyeuFvqTZx+TL3PieDRpPpWpUcELxzQDCSkOuHu6Zj4w2Xo9N/p4lTPHzpHgHEjVamVxszim1sfRUrsT0pzw8nKVhzgXAUvxI4mfEEVMYkeIgpHYEaLgLMWPXOoVQgghhCghJPETQgghhCghJPETQgghhCgh8vU4F2dneRqPEAUhsSNEwUjsCFG48pX4yU22QuSf3KAuRMFI7AhRcJZ+aZJLvUIIIYQQJYQkfkIIIYQQJYQkfkIIIYQQJUTxSvxMMexe9CuTflvGwfi73ZjbUBj9uF/Goijcr2NjMhAXE0tiWj4+Y0wk9nIMCdZug0qOJyYmgdu+U8qecowJxMbEYTBZ2l6M2murrXB/tvd+VJDYAfvGy1bZxgRiC2P+7elDYc2vMYGYmHiSLW23O9bt6Letumyxpy32zr+1thTWPN4DCifxSzvMpMfrUbVqI16ad/mmTabT/8ez9atSreFw5kRb22OBKXoxY58dwcsvDGX8msRCadqtbT3K5EF1qVK1ISP+vIj1FhVMvvuRHEvUmSiu5liNtz0WpjPMGtGCuqF1qFMnlNDQuoQ1aUvPJ9/h539PFTwIi4E7sk7upLg9TH/rIRpV9KdchQqUq9yQh0fN5VCS5Y8kHZ7Px0+0pWZQABWCggkMCqH9U1+y8kzmns8Uw47po3iifW0CywZSITiQoNqdGfbjJi5nLnrDhtF0rhdKnTp1cr1Cqdv6XZYn2lcOgOH433z2ZHtCgvypUKEcFaq14InPl3E6rfi111Zb78v23q8KEDtg53hZLfsqu2d9zDPdGxEc4E+F4EAq1u7M0PHryeswZ4z4hSebhVClUhVCmr3I7HMmO+uxv72mi/8x5ZWu1K4QQHDP79l/SwZjImbbNN7u9wBVAv2pUCGQckFNeX7GCdLAzli3t99W6jJFM/el5oSG3hwXofW68fnmzCOTnfsd++bfWr/zN4/3DaPRqOx5AZa3J2xSHz7gpsBT9f7xhDLk2Ja09yvVyR2FZ3c17rDBej1X1qqvB3RS7boNU1P2JNjVrny/EraqT1pltLXH+KM3tbXQXvnqR5xaNrK20uOiGo9ap+ILayyy+6lTfiHNVauWTVStQHelgdLcw9Srf0cVzfjeidedWCeF+LIaO4Yzat6wWspF05RbcHPVo3cbVaOUptC81APvr1GxeX0mbp16v7mn0jR3Vb3zM+rVkc+priFeSkOnKjzxuzptMCrjuSmqXylNeVVuqro82Fu1qVFKaaDQh6gX/76kjEajil34gqqiQ8GtL81noPq/i/aVY4xZrUY191KaplflmvRWjz/WQdX00hRaWdVr/D6VVJzaa6utxW18C6u9xSAOikXs2Dtetso++4t62EtTmuau/AL9lKdOy5hbXSU15I8zNx9XDEfVrwOClC5r/t27qG8PJNnfB5vtTVKH5r2nelTP2L8Dyu2BD9WmhJv7fWXTWBUeqFNo3qpG24fVoCefUA+1C1NdP92iEox2xrqd/bZaV1KE+qaz+61xoa+jRi6Py6jHnrbYOf9W25KfebwHX5bi5y4lfgZ16eh/atXSf9TKjREqKnuBGlTs2SPq0LEoFZf575gzR9SRs7HKaDSquMgdavXylWrz4Yt5TkjSxSNq25rVas3mvepoZKSKjDypzl6Mz9VWexO/JHXh0Ba1atlStWLdbnU6Nj/15e6H0WK/46OPq5lDqyodelX3lQXq6MnT6kJcXmOR83VFndixRi1f9q/afuKKhTnJo58XVqt3HnBXGpoq98wcdSX7/XHq9O61avnSFWr93rM3kk87+3pjji6pwxtWqNW7zmbsSOwq39JayM86sXfO8reeijr4jEajSor4TnUtpSnNvY36ZEusMhqT1MEfeis/DaWrNlwtunLrZxJ2fKrauKE03wFqWlTGzy7NG6oq6VD60NfVyjijMsZvU3N/XaGOxGVsNxz9WT3kpylwU61Hb82cnyQVd+WKiomJyXxFqtnPVVN6NOXba7w6mGRfOTFZddcYpv6KMiqjMUHt+LydctdQbm0+U5s3F5/2Rtlo646E4jW+hdbeIlzfRfkq7NixN35sln1qmfryta/Vgj0XVJIxQR2b+ZwK0aNAr2q8tOSm/dKFxS+pUL1eVe37qGrnfnPiZ08fbLb3ylE1vkcpVe6BJ9WooW2UW16Jn+GomvhwWaVppVSb/61SUXn9MmDPmo6xo9+26spK/KydDLKjLXbNv6222NOfe/hlKX7u/D1+aadY+E5XGtZvSefuPQhv24AGfb5hpxFIWsX77UOpXa8v32xLhqSVfNA+lLBeo/h+bH9aNGhGp67htG7UkgE/bichu9BE9k17gfZ1Q3mgQyc6tAyjZtWqVK1ajVoDJnIgnxftjaf+YXS/JtQJbUHnbt3p0q4xtcM6M/KPCBLtqe9qrn5Y6nevt3h/YBgDf4kknVQixj1EzSq16f/TPoy5xyJT8pG5vBnegNBmHejarSPN6zehz3fb7Lt061ufBrW8MvqYYiQdSD4+n/d6NKRO4/Z07d6Ftg1DadrvC/7NPs9tq6+Zc9TzHT4b2YuW7brQ85kJ7MhskNXyra2F/KwTu+aMfKynOydh13Z2JJrRh7alXW0PwImKbdoQ5grpFw5y6PSti1fn4YGnToPkExyIuIyJJE6fOMU1s4Z37RAqOwOuYfR+vB2V3TI/5OKMiwOgueDnVybzAZ5OuHl64uXlhZeXF64xy5m18CSpumB6D3iIyk72lJNGTNQ5YtLBqUoItUoDOFO9SVOq6SHl8GEidcWlvaWIs9HWo8nFaXwLsb33oYLEDtg3XjbLjm3JK5+/RPfavjjhTIUm9aieOc43PTvNsIMpX//OEe+uvPJSW0rnOuLa0web7XULpOtHq9my4meGNiyDYx59Nl1cx6q1V8C7C4OfbYlfXm+yZ017dbDZb7vqssWOttgzdjbbYkd/7kf5eoBzYTBsnMTHP24gNmQI4z54mPLXDrJxtytmM4AJsynjv6Z0ADPKDKkRv/Du4UCa9RnMYxfXsWhzJH9/PoHFfafxRKAjaSdmMnrUb+wr3YePvn2cKuf+ZMxH8zhZqTtDH2tGYH7mz3iAqSOH8dmyqwS2eZaXe1XHFLGAX2ZuYOLI1ygXsphXS9moTx+Xqx8W+r0zneDAAfSMm8/SvQn4Nu5Ot9CyVKtdBh1Rt5SBcS+TXnuZCesTCGzzNIM7BhK3fQGL95zAQDNc8+yQmdTEaE4ev07MvrlMXR6DWedPu9ZN8DBGMOn1l/lunQOtR/zESx29ODZzDJ/MG8PI8qGs/b4HXrbGVh+XMUeHfufTAy5UbNaB0PJ+uGuAMYKpVspf1nujxbVg2JyPdWLHnL3ZyNXu9XTnGLkQfYFkMziVLUuAPuOnTgFlKKPTIDmGyzG33mjiWPFBnnt6OpvG7+C7gd04Gh7A4b/XkFqzP5+//QjBmV0wXdrO38sPcuX6JSKWTOOvKxrl2r/MC72D8jg4GNg18/9YFWvGpd6jDOxSNvs9tsrxcHdHp0Hy2Ugik6CqN5gcnXAGzCkJJHn3KibtrUKpf6y3NSHJVIzGt3Dbe38pWOyAPfFjJCJfZZuI2baTfcmAviItW4SSka+kcXzWN/y8BZqPeoOBFQ+xpgB9cKxtq73OUK8eYOKipdGKPMHxJDO6CkYiJrzAw9sPEZ3iTlCj7jz76jA6V8pM2vK1pvPut8FWXeWzGnWI2W8/zjonZ7yDQmnVuz+PtAwi63BtvS32jZ0xzr5+W5/H+88dT/xM1+KJTQd0rpSp1oTutcLp9UTmRgs35Jq1AHqNXcC0EfVxOz+Dp5o/x5yEoxw9kQqBrhhPHOHgNQ2/vo8z4tFeeCQ5sWXqfE6kVqB1vxb45qN9yXsWMHPtZfDry/uTx/NUJUdI60Kp6Na8vWo7S5ZH8FQjW/X9k49+G6gZs4GVew2U7/gK4z9plZHAJe29tW27FjF381Uo+wgfTJ3AkGBH4GXeOq+s9PE6q0a1I3QUgIaubBiPffgxo5+oQvruMfy5PgZdyEje/egZ2nuAscI5Vi55ly1r1rHb0IMHbI5tRl/NZifqvzCNeV/1pELmHiJ52yKr5e9qnmhxLSTmY53YM2cvNmqanRjbWk93jhnD9WTMgKOTU/YOD0c9ej1w3YgxzXzrxxwD6PbRJMaceYiRCw6wZM4B0JWlfa9+tK16Y1eVvG82o4b/yIl0AA19uQfo1rUR5fLqYsxKZszahYFSdH68Pw94YHc5Ps1a09p3PkuOTOL5rkdo4JfE8d07OJECOBWv9tpsazEb38Js7/2lgLEDdoxXcr7KNl1ew/ffzSMqXUeFviMZHu6T8fNLyxg/7h9iazzLz881wy39UMH6UAjza05IIN4MqScX8cNPZala1Y+Us7vYtX0DG44pli94lfrO+VvTlvpts655fXBydkSni+PYptXsik8k1Qy//TKThk1ifQAAIABJREFUTZPmM/7Ryjhhqy32jZ3ZYF+/rfXnfnRnL/U6gFuLPvQPK0Xq7p8Z1LwhrQeMYvqOGOvfrtUFEhpWA0/A0TuYIH8dmFNITVUAOAdXoaq7mZgNfzJ5/koWTpnJv+fMuFauRJCTtYJvZYg8ztFUcAlpQFjW2R+nioSGBqEjlTNRF9AKUF+B+p27baciOZYKLjXrU98/6/ev0pQv723lU3pCer7AiMEdqOYO5jRF6SrVKOcEKadOcCwV0s/O5ZW2jWjUqBEtBv/MvhRIj4kj3pSPsdWH0PXhjtlJH9guP7mJ5THJz3jZM2fpOT9gYz3dORpOen1GEKalkZr1Y5V5JlNzxcU5jxBNPsTvLw7ivUUXCWw/gjEfDqG571XWf/0E/d6az9nMQfJo+gKTFy1h8bzfGfdGDyrF/8fUtx+j//tLuflkSBrH/vo//jqVji6wBwP6hpBzam2V41TzST7/8V36NauI6dQ2tp80E9ItnBAX0Fy88HI6WmzaG1/NRls9HIvV+BZme+8vBYwdsGO88lF24l6mvPoyP+5JxrXuU3z5+WBqOgEY2fvbOGZF+tHn5eG09UjGmGYiYw+jUKZ0TPb2oRDnVxfUn5+3H+bAzt3snP8WTV3MXP1vGf8ey7gsbveatthvO+qKLMezM05x5cplLkRf4tz++bzVxgcMh5g96c/sW7OstyV/82+r3/b0535SSGf8XHF1BjCRkBBPOjdOC6cnJpJkAhxdcXV3xLFsNz5dsIT6Uybz+8yFbJz/NcO2RpK6cjrPBNpXm4NDxn9V5nHaKaAu9avp+XfPPN57/E/MZg2vmr0ZNeoJ6uTzMr3ZbAYzYFaYb/q5CdDQOenQ26ovjycoOPpb6vckgu1smyndlGfbrHOmavirfPV8GQZUe4juH21g6off0rHNBFqbzJgBnX8YXR5sQCmHrM844OTXnKYudoytladFKBvlNw/uSF9La6G6/evEnjlzwLLc6+nO0VHGxwdHwHQ1jph0CHaEtJhYrqSawSmQcgG37n1ilnzHx7MPkRb6Kj//8QX/z96Zx0VVtXH862UYdkQRBQRUQEVEcV/DfV8wNXdTSzPLrKzerLTdsrflNU1zSTMrLdO03LdMTXNfUUERN1DQEUEcZxiGmfP+AZjIMhciQzzfz+d+lDnnnvM7z3meO8+ce+dMZ094srUXkZGfcHjJfH5+uicTwxzAoyatOtXMOql3RzyvNWPUt1eIXrmOPe/2IDJn1Um/jyXf/sYNq5bQ/kPp6XfPTR2b7ThRq89bfN/nrTun6Le+SuufwLFmMBV/m86k0qS3EK2BTqBbXcrsW1J6yxTFix1QEz/d6K+mbeNplr7yJK+vuoASPICPF06jf/WcPvVEnzjOrcw0lo8LY/m4uxVs5uWGtTjyzUHeVtGP6ngvBMXVFXcFrgh3PH2yHNMjvD513BT237pJ6s3sK6cany503Or6snNyzb4DY4dHzS4M79OY2Tu3YLqcSJIZcLClpSsNVNhOSVIxbhvjKYuUzIqfgx9BNSuhIZ1Dq1ewT5f9uuUau1au53gGOIbUIcQt62V772YMm/IVm3evYlILZzKTdrL3WHoxO7eQuHYBi44oNH9jDXu3bmbLjkNE7V3GxAivfB90LQwXf38CtJAec4CD8dlZjeEk+w/Gk6k4E1anJjeK2V/+4zZRTikHWDEajRSWe7hWrYqvFtKj93EgZ/8m4wV27z6t4ssdrjQaOYY+vhoyz/3M4pWx2PtXo7oWrJlVaDVuClOm5ByTmfR0R6rZ/z3bOtlsv3BfUOsntucshNL5tmeHV+3a1NBCevR+DiaYAQuJu/dwxAiOwQ0Jr2YP6InZMI/p0xfy2zk9SfGXSMkEe78aBHlkteRZpzY1nBSsltvob1uxJMcSfemue+KWW9y8acYKKG7OON2JfAtJG75l6bF0FJcWDBnaBo+7FKpv5y5McfyyZA1nM52p17E17kmlWG8ure0JdTCVbvsWU2/ZozixYwbU2Kuc7bb9rrLurdG8+G005sB+fLx4FmPC3e7S50T1Rt3o1rULXbpkHx0bUlUDaKpQv20Etas4qxiDtUTm1yEwkCAnhcwbUURFZ38h7tw5zt+2ojj44++vVeeLlgQb41bRV5VUEnV3ffHGksypmAuYAa2/H772auJC3fzb1OKrszmeskgJrfh50H7IKJr/NJXdez5mYKf9dGrmh7i0ly07z2BQqjNozGAaOcG170bT+ydnIns2wjfjOHsuZqA4NSCwmraYfdvhUNGTipp09v1vFINX+lDexRm3Cn6EthnEuHGR1Ml3Ho3snTGINt9mmaCctj5jF8xkRLNI+jZewKk9G3h/xChiO9XAdHwNP+wxoAkezeO9g3E9aqO/fJaXCh63I1UueaPhNHHL3+PJlCUEtJvMB4/mbcO5eS8iw77i08MbeGfwAA5H+JJ2eAPbvSdzoEVt/G1kYnbeXXgsMohlX8by+9JlnFzVk76N5xK1Zwmvj9RwqlsdPCw3uHRyL1HeE/hpahfbti1kKc2pSeHtz669jMEF+EJR/MTZ5pzVoLR+fnNq2pt+TedxYvdGpj3xBCfqWzmy+ld0eNF5xECaOwGGPSx49RW+OKPQTB/GimZ18dduJ3br5zz3oo5OgRou71zK+pvgWK8NEaFOGHfO4tHRW6japjX1qjqSFrODddt1WBV3GvaLpHnOo0Hm0yxfvJqETIVKkUMZWD93imzcq6KdGyt5adA3pNSti59rBlf2r2fVHxfQ1B7NiyNbUfNUKdKbvpKX+hSktQlO2OFft+zpLYsUJ3Zavdlclb2cNIW3HR71NT3mH+CmVaFiuYv89J++/JStq5x7B974djIdJn7HIxP/0mtJXMTQeuO4bG3AqC8WM76mPRhtjcEBo029ZrZ/Np55BwyYk45gAqxxv/LuiCjKe3dh0sdPUN+nA907ebHm533MemEsNztWIX7zEnYZtAQ+OYgefnYYN9r2aeOer/nQ1rht9NXh+kIGd1mJa0QLanpquBX7B+t/iyVDE0Dfxx8l1AGMW21rUTP/dra0JH7DCFvjKYt5YEnsp5R1pIqTK94UAxr7CEcle0NGRSs863QVz839487+OSnbPhCda7hlbzSpCG3lxmLY/7ZllaesFRNqaYXi3Eq8syst798mkzCl/i4mN3EUimO4eHVL1h59KQdmir7VNUIb0Eo8Omig6B/ZXoR6aQSKi2g+ZXvufeP0J8WsSC+hUe7ZUNWlo/jv4ay9la4fXixe6Bws3O+Mw0VUbzNWzP7jirr+8tFd2Lj1MUvFs008s8qUiqLXjBNCn9/YTSaRtHu2GN3CN9vGinD0bS5GztmXd++9tEPiow5uQlEqiH5z4+7sU5e6/U3Rwk0RODYWb/yeKpIPfysmdq0lyivZG1eiCMfK9cRjn2dt6lmcsd59FNZ+UiE2KZKfqJgzkyn/8/Lzp/u1l1LOcX3/fPFUSx+hzdauuNcUPSatEKdy9uFK+1O838ZdKIqXiPzipNAbLoiNHw0WTXwc72zYqijlRXDHZ8TcP5OEyWQS+phl4pUutUVFzV92d/ZtLAZMWS6iUv/qO3Xnm6K5I0JxrCOeXXUljzZV7VzfIF5r5vWXfq2XCOv9slh8UJdVXpr02tJaRvU+qEeJx04R7FVY26nbJoumLjlzds97SeXHxfeJ+eiNXygGeSpCKd9bfBFjUD8Gm3rjxdeDPe+U3X1o60wUG7L3wks7sVRM7BQo3HL6cfYTrZ6cIX5PMKj2abXjLqwvw+nvxTPNqgqXO9dqjahQu7N4dvaOO3mC2viyaTsbWoo1jw/QUVD8lMsutImDgwMmk5oN8UwkX4wj/no6duX9CAqunPcr0eYULsVeQJfhjG9QMD5ufy1VWYxp3Mp0wMPNId+/c15LM9vj7u6EHTqWjWnKqCWZDPjqAIuG+2CHmZPTI4l4bTt2A7/i1HfD8VIzyNwiSYk/y0WdCa1nADWrVcxeNVLXX8V8dBc2bsw3uHgmnjQHnzs2y2/sWehJOhPHFaMzVWvWpEpBX+wy60m9reDi4ZxrxcusT0Fvdcy2H4CFtMtnOX9VD85e+NcIoKLD3xxrLgpq35ZN1PtJ4XNGoefl9qeSR13s6Ek6fZYEvR2Vqteiuuc9tjToiL+hUMnP869te4w6zp1L4Ea6He6+NQjyccujX3/tHBcvp5DhUImAoGrc2yyA6VYKBpypUOD8qWlHz9Wz57icBu5VgwnOzylLjV4VWsuo3geNfyx2QKW9bLRdRMyGVG5bXfBwvffKpKKfEplfE7rzZ4hPgfL+wQR55V0NVuPTf78vMynx57iku005V19qBHnjls9g1GlRM0e2x10WKSh+/oHE735zlaWjmjD6h1SqdX6K0b3q4J5+nq3fzGXtaRd6fr6FH54OKcFbffe7v3+Th2ms/xylN3YkktKNjB2JpPiU4cQPDDEr+XjqDJZtPcyFlAxQXPCq25pHn3iFV8e15d4v0T1o/f2bPExj/acozbEjkZRmZOxIJMWnTCd+dzDruZFyG4vWHS+P+7CUe7/7+zd5mMZawjwQsSORlEJk7EgkxefhSPwkklKIjB2JpHjI2JFIik9B8XN/f7lDIpFIJBKJRPKvIRM/iUQikUgkkocEmfhJJBKJRCKRPCTIxE8ikUgkEonkIUEmfhKJRCKRSCQPCTLxk0gkEolEInlIkImfRCKRSCQSyUOCTPwkEolEIpFIHhJk4ieRSCQSiUTykCATP4lEIpFIJJKHBJn4SSQSiUQikTwkyMRPIpFIJBKJ5CFBJn4SiUQikUgkDwky8ZNIJBKJRCJ5SJCJn0QikUgkEslDgkz8JBKJRCKRSB4SZOInkUgkEolE8pAgEz+JRCKRSCSShwSZ+EkkEolEIpE8JMjETyKRSCQSieQhQSZ+EolEIpFIJA8JmqJUdnBw+Kd0SCRlGhk7EknxkLEjkZQsRUr8TCbTP6VDIimzODg4yNiRSIqBjB2JpPgU9KFJ3uqVSCQSiUQieUiQiZ9EIpFIJBLJQ4JM/CQSiUQikUgeEkpX4mfRcfjXr5n3zQZOpv7bYv5BTCdZ8toYRj71Hr+cN//baiSlBYuBFF0yt4rqEqY0dLpUjIWUJ+tSMFj+JX356JF686Gk9D6MlHbbmW6RfE1HWkk8rliYPxpT0enSKLQbUxrJturY6kcttvSonbeS0GJr3GrtUgYomcTPHM28YfUJCmrMhBXXchVZLnzLmPAgghs9y7LEwq+MlsTVfDRmPM8/M5aZ226ViLS8nVzkh/GtqBdWl7p1wwgLq0eDpm3pNfI15vx2/u85llrMCRxc/QM//rSRo1cy70ePucllg7+OsPpdmfrHfbFA4RiTSbiYwI1SIOW+kHKE717tS+NqVfD188O3RiP6T17OKX1hJ1nQ7VvEpAEtCfSpgp+fD77+zXj6+7PkXEMNsWv4cGR7Qvyr4Ofni19wK4ZP28CFey6ylqQ9LHihG6F+3gT0+pzj9175bOmzJLJ8QgvC8vhTd6btzpnEUqJXldYHS69h5/t0rh+WqzzrCKNexOts/IcupaWCYsROUexlc+4AU9R8RjYPIbB6ICHNn+PH+L/e5/TRK3l3eFtq+3vj5x+Aj38I7Z/4mM0XczuJ7X4K8UeLjgPfTWZ4+1B8KvvgF+CDf2hnxs3exbU7Um5w+Id3Gd2jMQHeVfAL8KFaaGfGztxB7rdlG36vJn7U6FE1b7Zj0LbtbI1brV3KFkX6Vm+BWPUkX44nIcGOpFQTFsAup8iYSmJ8AvFKIik23sjtytchomcHbqYG80iItkSk5SHzBpdiojkTm4FXSBNqe1pIPhfFbz/u5bc1v3Phx7X8t4vXP9N3aeGODdJx8fTGw7EcAOXsTJit4l8WZ2Dbu53oM/0c9SdvZOtbLXH6lxX9o1iSWPPOEzw3/zSKXzO6R2qJ3bGLtf97lmQnX9ZOaY1rPqfdOjCTJwdNYfNVN2pF9OXx6k7oL54gKekmVoC0P/h0zJNM25+Od+NeDAnUc3DDdpa/N5b0ilv44ekQ7DETt+ZD/vP6DDbE3sYKOOsNuT/xqtFnvcXV82eIjb2dW6TWgZsZonTpneRlU+uDptd6O5mEuFjO5fMZUqmYxM1/4bPlfaGYsaPOXirmDsBygRWffcyKo/FkAqRdIjndCtiBYQ+fjxvLR/utBHUcyfNhCjEblrF56bs8owSwa/5gfOzU9VOoPybvYcbL/2NTxSa07FEX46kd7Dqzk0Wvjcel5g4+6+IBV9fw6fMfsUrvhGcVT1wykkmJ28ni18dSzncHXz7mjZ2tfgBUxDrJGwvX0zFd1bzZ1KJmjmyNO2KTKruUOUwmk1BzAAWXp+0Sb7d0FuAmImefFYa7yvRHPxGdXBC49RAzog3ZrxvE1dN7xJb168TmP6JEQprpzuvJl2LEqTMJIiX7b93FGBFzKVmYTCaREndAbN24WeyOTsrVx52+kmLEvm1bxbbdR8XpuDgRF3dOXEpKvUfrXvHeI1lae848ndXOla3itZYuQkERvqOXiet3t5kYLfZu2yjWrd8idp9MEGm5+iyCvuuxYt+WjWLLnjPievJq8WyQRuDYWLy+7W59enHl1J9iy4b1YtP2w+JC8r1jzN3f9di9Ysum38T+s9fvlCed+kNs2rhNHL6Ymsc+hdogz1EULVdF9M5NYuuhS3fZJ0VcOPy72Lh+k9hx9JJIzdN+/j6Qmhgrlo4NEhq0ot4Lq8TpcxfElRR1Plpaj8JiRx81XXQrrwjFpY14789kYTLpxckvIoWXgtAEPyt+vZ7PeYbTYm7/ykJRyos2U7aIBEPeOroVY0V1DUJba5z4OcEkTKY0cWBaO+GiIJzbfCgOpGW1M7NneeHbcqSYPLaNcAbh3PJtsSutiPr0UeKzzi73xHgp1ZtoQ+uDqNekFynXrwudTpd9xIkfnwoWWhTh2XumOKn/92Og1MSOWnupmDuTySSurJ4gwrRaEdRvoGjngsClq/jfCb0wmUwi7cAHoo0zQvEcIhYlZNW/muM3YS+LzSkq+7Hlj6n7xPKvN4mY7Ouk4fQc0ddLEeAsIt7fm3VN1m0QH7/0qVh15IrQm9LEmaVPiRAtArSi1oS1We+3KvzeZqyr0JOsZt7UaFFjO1vjVmOXB/goKH7u/zN+5vP88lo3GoW3pnOPnnRp25CGfT7joAnQb+HN9mGE1u/HZ/uMoN/MW+3DaNB7Mp9/NJhWDZvTqVsXIhq3Zsjs/aTdafQWxxY9Q/t6YbTs0IkOrRtQOyiIoKBg6gyZywlbN+09w2lYxx0AU7op65Ob+QzLX+5KvVp1adGhGz17dCYivD5tnlpElCH7PJX6dLumM6BlA1p27kbn1k1p//Qyztyz+mk6v473BzSlblgrOnfvQdd2TQht0JmJS6K4c+fhTn9v8PmHA2ndqBWdu3akReMOjF+yk5/f6E2zRm3p2q0DzZr04I31lynOanWRtPR6jQ8n9qZ1u670Gj2LA0Ywxq7kjZ6NqNukPd16dKVtozCaDfgvv+WsnRfkA/po5g9vwND5cWSSQdSMvtQODGXwl8fK7HMXaYf2c+CWFW1YW9qFugL2VGvThgZOkHnlJKcu5B25JWk7W36/DhW6MmJMa7zyfCQ1o0uIR5cJ9oEh1PEAcKBm02YEayE9OprTRsDOh27vbOXPTXMY26hSvp9si6OvVOu9mFHm9II9zm5uuLu74+7ujpNuIz/8co4MTQCRQ/pSw15FEw8gxfdNFfZSMXcYDrDg08XEVOjGCxPa4nHPu6nG1RU3jQLGs5yIuoYFPRfOnuemVaFCaAg1HNT1Y9MfnRoQOawdNZyz/3Z0wLEcoDji5VUp67aeewdemDaBHqGe2OOAX9P61Mze4i1nrzfbfq8SG3qMKuZNlRY1c2Rr3CrsUhYpmVu9RcDwxzzenb2T5JBRzHirP1VvnuSPw05YrQAWrJasfy2ZAFaEFTKi5vN6tA/N+4xgUNJ2ft0dx5pps1jdbxHDfewwn13K+5O/4ZhHH9753zAC439i6jsrOFe9B2MHNccn3/mzknErkXOxt9EdW87CjTqsmiq0i2iadXvAdIY/Nl2mer//MK5ZEOXTj7Hs03n8vvRD5vXuy6xID3X6yu9jzmvvsTY2g0rNBzOwaTkOrVzGtiuZ4JgtxXSChRPH8eGGG/i0GcPzvWtiiVrF/KU7mTvxJXxDVvOfxk539fcVr5+uSqs+j1Pn7AbWHjrO12O7841TDdr2H07do2vYdHIvc2csY0jHl6hXoP9aMV4/x/GjqZQDymkrUi0ojaVF0XJqMR+ccKRa8w6EVfXCxRzFwpefZ/r2ckSM/5IJHd05s3Qq762YysSqYfz+eU+cCvIBKhLaaQi9kley/mgank160D2sMsGhle6/o94XTFxJvILRCvaVK+Od/XSDvXclKmkUMOq4psubupvizhKrt6LxMxE16xn67z9FYroL/o17MObFcXSu7oCriwsaBYyX4ojTQ1AFsNjZ4wBY09NI01vAw4Fq9esDFpL+jr6QnOqn+HHSMLbbO1DBP4xHIgfzWGt/LKVMr18hWh1KoX1t6c2NgUNLv2VLshXH+gMZ2rVy2bxVVczYyUtB9rI1d2Zif/iMOX9Ci8mvMLTaKbbdU8Ou2qM89eR37Jp5gOlDu3O6izfRa7aRUXsw0yY9RoCdmn7U+aPl6n7WbDzJ9dtXiVq7iJ+vK/i2f55nIv3zmX8Lun0HOWYEtNVo3SoMZ8Cgop+/RBXujwXrqUzSYtvzZkpRo8W27dSMW3152eG+v59abqaSnAlonKgU3JQedbrQe3h2YQEP5FoVb3p/tIpF48Nxvvw9T7R4imVppzl9NgN8nDCdjeHkTQWvfsMYP7A3rnp7/ly4krMZfkQMaIVnvq3eZsvkdoRNBlDQVG7AoLff5f3hgdgDuHbnw70dcXXNecIsFZcjP7Lj+2QuXEzCjAc5H6QL02cst5H1UQao2IspXy/g6WB7UgaGMvTRt9mWvXJoPLKKpb9fA69+vPnVTJ6obgfmrpRPjGDSlv2s3RjFc42b3XnWzap4EzltJV8/Wx/twWl07fwOezIDGT7rF2YNDiJj6yTa9P2cmJOnic2gkMTvNtve606L97L+Utwf5fOvQ4umxWpP+DOLWPFJL/zswLhvKi/s0KEJmcjr74ymvSuY/OLZvPZ1/ty2ncOGnrQozAde+gSu7GTzUQNVO77AzPceKcPP+Fkx3DZiBezs7f96E7fTotUCt02YzNa8Z6WlkWqFjHO/8sWXlQkK8iL90iEO7d/JzjOCjateJLR5BBGeK1kbM4+nu8XQ0EtP7OEDnE0HVK8AqdSn2GPvYIdGk8KZXVs5lHqLDCt8M38pu+atZJpzKdKbqSlU68yBNUqXfVXozdWdbjPf/3AIA+XpPGwwLfN7yK1MULzYyUMx7WW5uoGZM9aRXGsMc55qjnPmqbyV7Lzp/s48pl7sy8RVJ1i77ARoKtO+9wDaBqlPKdT4Y9CxH5n87GzOZgIoaH1b0r1bY3zzuXharm3j8+krSMjU4NdvIs92qai6n3BN4bGe44/GAvVYSVYxb1aDCi1FXJAraNxqy8sS9/dWbzlwbtWHwQ3Kk3F4Do+3aETEkMl8d0BX+C1JjQ9hDWrhBthVCMC/igas6WRkP0zqEBBIkIsV3c6f+GrlZn5ZsJTf4q041aiOf4EXYS0hvZ5h/IgOBLuA1SzwCAzG9059OzLjtzHnrQmMHNCbbp378/HvWQ+0Zmbeo7YQfenxFzmXAY6hzWiaLaZC3XBCKvxlekNcLKczwDGkIQ18sj+f2VcjLMwfDRlcTLhC5j391Q2viRvgEOCLrwawr0GDxgE4AI5VffGxB6spg8K/Ja8lqP0wRo8ezejRo3lyeHsCrsYVTYs2hG79O+KXXTX9/FnOZEDmpeW80LYxjRs3ptWIORxLh0xdCqmWYvpAmUTBXqvNCkKzmTs39UT2irfihKNDwSGq8R/MnP3RnDh4mIMrX6WZo5Ubezbw2xkT9rVHMm326wxoXg3L+X3sP2clpHsXQhxBcXTH3VXNOpBKfXY1GPP9ea5fv8aVxKvEH1/Jq20qguEUP877iVPmUqTXuXCtdz8W8qDpBTNnfv6Wn89novHpyZB+Iepz0AeOvxc7WRTXXiaOfjODH+K86PP8s7R1NWIyW8h6NxIIS2bWtcx4isXPPc4bvybh0348U98eRQvPG+z4dDgDXl3JpSJe8ArzR9dmz/DVr2tZvWIxM17pSfXUPSycNIjBb64n18LnraMsePF5Zh8x4lTvCT6eNoLa9ur7sRXrOf5YsJ7N6DXq561QLUXB1rhV2KUsUUKJnxNODgAW0tJScyUGmbduobcA5ZxwcrHDrkp3Pli1lgVvjiCiqp4jKz9l3MAJfBOrfgOmcllfQkVkf4nI3rse4cFaMmNX8Maw3gyatJzEGpFMnjycugV+KnAgqMuLfPLVcr6Z9AiuN4+w8O3/sT57Nxpz7CKe6z2Ql6av44JjIA2atyCsqrpvGt+tz2oVCMCamUlBX66zWq1gBawCa67XLYCCxl5DuYJ7y6csv9fyw4GQvm/xxZdf8uWXXzJ7+jiaOPwdLSAsVqyApkoDuj7al759+9K3/0iem/wW77wzhGaOlIgPlA00VKpYETvAciMFXbaDmHXJXM+wgr0Pvt55rz6KqyvuCiDc8fTJWqLwCK9PHTcFrDdJvWkFnKjV5y2+336CS9d0JJzayaIhNbFawbFmMIGqllHV67NzcsXJDsAOj5pdGN6nMU5AxuVErjmWLr2FaU0ylz772tJ7B/0+lnz7GzesWmr1H0pPv7J5kzeL4sVOLoptLz3RJ45zK/Myy8eFUcHDgwo1x/PrLeD2Zl5uWIuxy3To1k7n3R9PYQ57ljlL/sd/3pjHyu8m0kh7m1NL5vNztLoiYt31AAAgAElEQVTkRZU/etSkVafOdO09mHEfzOGtx7zRWA1Er1zHnpznyY2nWfrKk7y+6gJK8AA+XjiN/tXti9YPhcf6HX8sUM9GLrjbnje1WlRhY9w2y8sgJZP4OfgRVLMSGtI5tHoF+3TZr1uusWvleo5ngGNIHULcsl62927GsClfsXn3Kia1cCYzaSd7j6UXs3MLiWsXsOiIQvM31rB362a27DhE1N5lTIzwUvF8iyuNRo6hj6+GzHM/s3hlLGYgefdmNl3OxKXra3z3zQw+mvoKveoU/aajU9Wq+Gsg48whDl8yAxau7vuDI7q/HNfF358ALaTHHOBgfHbkGE6y/2A8mYozYXVC8nmW55/h72px8q9GdS1YM6vQatwUpkzJOSYz6emOVMuOp8J8oJxSDrBiNBr5tzeX+Wexw6t2bWpoIT16PwcTsvwjcfcejhjBMbgh4dXsAT0xG+YxffpCfjtnxiEwkCAnhcwbUURFZ13VTefOcf62FcXBH3//fD6gmOL4ZckazmY6U69je0JVOZRKfaZrJOruehOzJHMq5gJmQOvvR0DNUqTXO6VQrb72lC77qtCbXUDShm9ZeiwdxaUFQ4a2wUONhAeW4sXOX/wdezlRvVE3unXtQpcu2UfHhlTVAJoq1G8bQe0q5UiKv0RKJtj71SAou3HPOrWp4aRgtdxGf1td8mLLH6u6XiT60l3PSVlucfOmGSuguDnjpACWBNa9NZoXv43GHNiPjxfPYky4W5H68ffX2ox1X3uwJMcWoscV71q2561YMZgftsatwi5lkRJ6xs+D9kNG0fynqeze8zEDO+2nUzM/xKW9bNl5BoNSnUFjBtPICa59N5rePzkT2bMRvhnH2XMxA8WpAYHVirtvnx0OFT2pqEln3/9GMXilD+VdnHGr4Edom0GMGxdJHRvzaOfdhccig1j2ZSy/L13GoZFTCPH0xEOBK8c2sHCxEz5xvzBruQ5rEZ84c27UmS61Z3EyahNThw/lcL0MDq3bSoxBQcm2vnOzSPo2XsCpPRt4f8QoYjvVwHR8DT/sMaAJHs3jvWvct1s2f1eLU5Oe9G08l6g9S3h9pIZT3ergYbnBpZN7ifKewE9Tu2Cw4QNVvL3RcJq45e/xZMoSAtpN5oPhNcvkbSunpr3p13QeJ3ZvZNoTT3CivpUjq39FhxedRwykuRNg2MOCV1/hizMKzfRhbH6tA907ebHm533MemEsNztWIX7zEnYZtAQ+OYgefnZwYyUvDfqGlLp18XPN4Mr+9az64wKa2qN5cWSTbC9OY/tnLzLvgAFz0hFMgDXuV94dEUV57y5M+vgJ6qvQZ9w3n8GDV+Ia0YKanhpuxf7B+t9iydAE0PfxR6lXTSk1esNPzyeyEK2hDmDnU3rsq0YvAObTLF+8moRMhUqRQxlYv+x+IzGH4sROqzebZ82NTXvZmrvv+HXiX7UtiYsYWm8cl60NGPXFYsbXtCfVVBd/7XZit37Ocy/q6BSo4fLOpay/CY712hAR6qSinyeob8MfO8TPoVe3LVRt05p6VR1Ji9nBuu06rIo7DftF0twZjHu+5sP5B7hpVahY7iI//acvP2VrL+fegTe+nUwHFX5vPFh4rIc6gHHrLB4dXbCeiEe0NudNVQyqsF3Nw4WP+5UJFtt2KYt5YEnsp5R1pIqTK94UAxr7CEcFAQgUrfCs01U8N/ePO/vwpGz7QHSu4SYUEKAIbeXGYtj/tmWVp6wVE2ppheLcSryzKy3v3yaTMKX+LiY3cRSKY7h4dUvWXnUpB2aKvtU1QhvQSjw6aKDoH9lehHppBIqLaD5le+495NIOiY86uAlFqSD6zY27s4dd6vY3RQs3ReDYWLzxe6owpR4RC8c0EV4aRYAiHP3aiKef7iF8NG6i82fHhd6Uj9589RlE/KapIrKWu1BAKI5VReuxX4j/jQ4UGscW4q0/ssZw/fBi8ULnYOF+x3YuonqbsWL2H1f+0p5ff1cWi6FeilDK9xZfxGTtq6Q/+bno7q4IxWuU+CG/vaz0h8XHndyFolTMZYOco9haso/kw9+KiV1rifKKknU+inCsXE889vmfIs2WD5hMQh+zVDzbxDOrXKkoes04kWXvB/SwFTvX988XT7X0EdpseyvuNUWPSSvEqZz9qNL+FO+3cReK4iUivzgp9CaTSDuxVEzsFCjccs5x9hOtnpwhfk/I3lvr+gbxWjOvv9rUeomw3i+LxQd1d/UdL74enG3new5tnYliQ4o6fYbT34tnmlUVLnf8RSMq1O4snp29486clha9arQ+iHpTd74pmjsiFMc64tlVVwr1twfp+CdiR5291M3dnSN+oRjkmfs6bDJcEBs/Giya+DjeaUdRyovgjs+IuX8mFamfwvxRH7NMvNKltqio+et66+zbWAyYslxEpWaPd9tk0dRFydMHIJTKj4vvE9X5vRp/VKPH5rypiUEVtrM17q9Xq7PLg3oUFD/lsgtt4uDggMmk5pkEE8kX44i/no5deT+Cgivn/Uq0OYVLsRfQZTjjGxSMj9tfN2QtxjRuZTrg4eaQ7985r6WZ7XF3d8IOHcvGNGXUkkwGfHWARcN9sMPMyemRRLy2HbuBX3Hqu+Hk+i0Os57U2wouHs65VpHM+hT0VsfsdgEspF6K4fwNO7yDQvBxM2NIS6ecu9uddT/b+rIxXuNsbCLmijWo5eeOndlAWno5XNzuqoOZlPizXNSZ0HoGULNaxTyrXPn2Z0jjltUJD9e/apv1qdxWXPBwLmCdzKwn9Ta4eLgWsJJWPC13lZJ2+Sznr+rB2Qv/GgFUvLtaIT6QVX6Di2fiSXPwyd+HHiDUxY6epNNnSdDbUal6Lap73mNTg474GwqV/DzvWnM2oTt/hvgUKO8fTJDXvavReq6ePcflNHCvGkxwlb9jRRv6MJMSf45LutuUc/WlRpA3905p6dGrRuuDp9d0KwUDzlTINx4fTP652Cl5e5kNqdy2uuS6DgNg1HHuXAI30u1w961BkI9bMbfYKdwf9dfOcfFyChkOlQgIqkaeEC2hftT6o209tq4parRICqOg+PkHEr/7zVWWjmrC6B9Sqdb5KUb3qoN7+nm2fjOXtadd6Pl5zs8nSST/DqU3diSS0o2MHYmk+BQUP2VgX9wqPPraDM5kzmDZ1q94a0sGKC541W3NU5++wqtjZNInkUgkEolEAmVixe8uzHpupNzGonXHy0MuCUtKBw9E7EgkpRAZOxJJ8SnDK353Ye9Kxcpldqt6iUQikUgkkr/F/f3lDolEIpFIJBLJv4ZM/CQSiUQikUgeEmTiJ5FIJBKJRPKQIBM/iUQikUgkkoeEf+jLHRaMabcRLu4452zsaDrGN699yqYb1Xns7bfoH/gPbbJi0XF47RoOpPjwyKPdqXvnBxjTiFrxBXNW7CM+owKNho2np+YER/LUu196JBKJRCKRSO4vJZr4mS7tYNGMWXy/ejtHEvTgGkCjjn0Z/dLLPB6awJH1K1mZFE7tsW/8Y4mfJXE1H415jl/1lRjlfop5/bJ+aM/w5+c8O3Ya+40a3Mu7cqlKJU6s+JK199T7WxiTSbhmxLmyHxWdCtcjkUgkEolEcr8pscTPfOFnXhkwjgXH00DrSY3wJpS/fYHjv87gdZdGPDrDpaS6KhS78nWI6NmBm6nBPBKizX7VxNk9uzhxGyr2mc6fS4ZRKfkA3xhj0Oeq93cwsO3dTvSZfo76kzey9a2WOBWoRyKRSCQSieT+U0KJ3zXWffImXx9PQwnozdRFs3nukSrYk8aZDV/z9TkftKTle6b5xjlORF8kOd0Oj2p1qBfsRe5f7LOQeuEYx+NuINwCCA2vhZdDIWVuzXniv7Poke6KT7WsisYb17h8LQUrChWqVIBrevBunadeFreIP36cs9cFFWuGE+6fe4WuIL3GG9dJuW3CihWTPoWrlxNxq+CDZz56slsiOe44Jy+mYnXypna9uvjk2oLQQlrSJZLLeVGjiiuGhOMcik3BqVp9GgZWKOZvPUokEolEInmYKZEvd1gS1rN81XkyFXfaP/9+dtIH4E6t7i/y0fgI8vx8ufkMy1/uSr1adWnRoRs9e3QmIrw+bZ5aRJQhp855fnmtG43CW9O5R0+6tG1Iwz6fcdBUSNmNLbzZPozQ+v34bJ8RzGf4emQ4j35+nHQyiZs/lJBa7Xh73erc9QBjzHL+06UhYc070K17R1qEN6XP9H0Ybem9Gc384Q0YOj+OTDKImtGX2oGhDP7yGCb9ljz9mM6v4/0BTakb1orO3XvQtV0TQht0ZuKSKG7l2Ee/mbfah9Gg92Q+/2gwrRo2p1O3LkQ0bs2Q2fsLSKMlEolEIpFICqZEEj9T9AmO37KCYxiPtApU99u4pjP8seky1fv9h//Ons/cz8bT1iuNo0s/ZN7WVAAMf8zj3dk7Sa41ghkr1rDiq6kMDXXBai2szILVAmDBkgkoFQjpMJQ+TbzQoFCxQS9GjOhDY+9yueuZjjLvpeeZtSMRz0ee5PV3JzO2nRPHj5zFYEvv73aEdhpCrwYVUdDg1SSSEaOG0im0Ehru0WM6wcKJ4/hwdSzOj4zh7U/+y5QRzXBN3MnciS8x95Ax20BWhBUyoubz+gf78eg6gkER1dGmx7Fm2ixWJ1pKYuokEolEIpE8RJTIrV7LzZskZwIOFfCoqLJJ1+58uLcjrq45v6mbisuRH9nxfTIXLiZhxgPLzdSsdjVOVApuSo86Xeg9PKv2rYLK9OtYcnc/dl50nPgJDikH2HTwJpUixjHj084469ex/65qxkO/snz3Daj8GG8tnMWoADvgeV69LPC0pTfeSruXPoErO9l81EDVji8w871HcALQH801bOORVSz9/Rp49ePNr2byRHU7MHelfGIEk7bsZ+3GKJ5r3IycXqyKN70/WsWi8eE4X/6eJ1o8xbK005w+mwE+8veIJRKJRCKRqKdEVvzKOTrhrAAWPQZ9psqz7MiM38actyYwckBvunXuz8e/3wYgMzNrNcu5VR8GNyhPxuE5PN6iERFDJvPdAR0WG2XFwXA+jjMZ4Fg7nPAqOU/QeVC1agXVelX1ExfL6QxwDGlIA5/sfuyrERbmj4YMLiZcIZcFNT6ENaiFG2BXIQD/KhqwppORIYo5UolEIpFIJA8rJZL42VerTqAWSI/m6FF1yZc5dhHP9R7IS9PXccExkAbNWxBWNfe3Xu2qdOeDVWtZ8OYIIqrqObLyU8YNnMA3seaCy+KKl/pZMi1gBawCazH1qsFqtebbj9VqARQ09hrKFXJ+uexCIfM+iUQikUgkRaREEj+HWm3p2MgFxXqdNbM+4Zezhjtlaac3MH/ZfvT3nJO8ezObLmfi0vU1vvtmBh9NfYVedfLeurT3bsawKV+xefcqJrVwJjNpJ3uPpRdcFpVRrDG4Vq2KrxbSo/dx4KI560XjBXbvPo1Rpd5ySjnAitFopKC8zMXfnwAtpMcc4GB8dj+Gk+w/GE+m4kxYnZB7vtUskUgkEolEUjKUzHYuDg0Y9Z+n+PX4TA4dnc+INtuY3bQ2HhnxHN13nFvd5tCnp1euUxw9PfFQ4MqxDSxc7IRP3C/MWq7Dyl/J1LXvRtP7J2ciezbCN+M4ey5moDg1ILCatuCyAA1JxRiCc/NeRIZ9xaeHN/DO4AEcjvAl7fAGtntP5kCL2rjZ1GtHFW9vNJwmbvl7PJmyhIB2k/ng0Xv6aRZJ38YLOLVnA++PGEVspxqYjq/hhz0GNMGjebx3DXVfjpFIJBKJRCIpIiX0W712VOn2Hku+f58REdVwTjnL7o1rWLc9lnJ1B/DyiPZUUrTYaxUUxQEHrYJHp2d5e1QTKlzZyEfPjGXSj2l0eLwbPpqs250AroF18Ir9gakvjGPcf+bypyWcIe9PZUwjh4LLGrrk6icHe60DigJa++y06h49uLXhpS8+4YkW3hijN7B47iI2JPgT2b0JlexQodeBkL5PM6qJJ9bE/axasok4fT79OLfkhdlfMKFzdUxHVvDFfz9h/qZ4PB8Zy/SF79Pfzy5/fQDlNGjvvFbYDWGJRCKRSCSSvJQzmUyqnhZzcHDAZDKpqGkhLfEcl64ZsfcMINDP484KlsWYxq1MBzzcHO7UTb0Uw/kbdngHheDjZsaQlk45d7e/1v3MKVyKvYAuwxnfoGB83O7auriAsrz9AJi4lWpC4+aOk11BegD0JJ2J44rRmao1a1Il1waEavTe4OKZeNIcfAgKroxzgf2YSYk/y0WdCa1nADWrVcyz0pffeRZjGmlme9zdneQmzg8I6mNHIpHcjYwdiaT4FBQ//0DiJ5FI7kbGjkRSPGTsSCTFp6D4KaFbvRKJRCKRSCSS0o5M/CQSiUQikUgeEmTiJ5FIJBKJRPKQUKTtXBwc5A5zEklxkLEjkRQPGTsSSclSpMRPPmQrkRQd+YC6RFI8ZOxIJMWnoA9N8lavRCKRSCQSyUOCTPwkEolEIpFIHhJk4ieRSCQSiUTykFC6Ej+LjsO/fs28bzZwMvXfFlMCFGU8ZW3skqJjMZCiS+aWuQjnmG6RfE1HWmGPQZnSSNalUeiTUqY0knUpGCx/s53sejpdKsYHQW9hWsuq3rJIcWJHLbbmTvX8q4idv4tqf7Xhi6r6KoF2SkyLinEbU9H93fgqI5RM4meOZt6w+gQFNWbCimu5iiwXvmVMeBDBjZ5lWWLhs2tJXM1HY8bz/DNjmbntVolIy9vJRX4Y34p6YXWpWzeMsHrhNGrejp5DJ/DB4j+4aCjBroownvsydgDTIab3DSesbl3q5neENeHZHxP5u3EoKQIpR/ju1b40rlYFXz8/fGs0ov/k5ZzSF3yKPnol7w5vS21/b/z8A/DxD6H9Ex+z+WLOO98NDv/wLqN7NCbAuwp+AT5UC+3M2Jk7uDsMDbFr+HBke0L8q+Dn54tfcCuGT9vAhTtvoOraAQu6fYuYNKAlgT5V8PPzwde/GU9/fxZzqdNbuNbSZ9+S0FtGKUbsGHa+T+f6Yflc/8KoF/E6G7Mvv4XPnZp5Uxs7WZii5jOyeQiB1QMJaf4cP8bnrVRQHTXzb8sXS8YugCWR5RNaEBaWu52w+t2Zttuoro2cppL2sOCFboT6eRPQ63OO35O12Ry3RceB7yYzvH0oPpV98AvwwT+0M+Nm7+JaEeKrzGEymYSaAyi4PG2XeLulswA3ETn7rDDcVaY/+ono5ILArYeYEW0ovJ/rv4tPh3QS7bqPEwuOpKnSVeQjba947xFnARrhGVhPNAivK4KruAlFQaA4ihrd3xeb423oVHsUZTz3Y+wmkzCl7hLvd6ou/KpWFVWrVhEVHBUBinDx8hVVq1YVVf1qiRFfn8s1h/L4e0ehsWO4KFaMqyMcFUU4B7QQPSPbiFrlFYHiLlq+uU0k53dOynbxZgs3oSguombn0eLFiU+JbiHuQkEj/IYvFhcMJmG6NF/0d1eEorgILx8v4aZRBCDQVBejllzMml/dVjG5hbtQFK3wbRophg3qIGq7KwKlsug985jQm1S2YzKJ67s+El18NAKlgqjVtr94fORw0bddA9Htgz9FWinTW6jWUmjfEtFbCuKgVMSOySSSf3lGBGrIsvM9h1JxqPg2ScXcqZl/lbGTNZbT4ush/kKTo8Wlq/jfCf094y2gjpr5V+GLJWIXk0mY9FHis84uedvR1hUTN6aoa8OkF6dWvCF61nQRSvb5zi3fFrvSingdjF8gBpRXhHuNZqLro5GiTa3yWe1pQ8Rza67avnaVghj4J+LnX0r8DOLq6T1iy/p1YvMfUSLhzmQaRPKlGHHqTIJIyf5bdzFGxFxKFiaTSaTEHRBbN24Wu6OT8k1M9EkxYt+2rWLb7qPidFyciIs7Jy4lpd6jNSfxu0urPkHs+Xq8aO2lCBStqPvcanElV9sp4sLh38XG9ZvEjqOXRGq+drguzh7YJjZu+E3sP3u9gPGYChl/QXWzguDKqT/Flg3rxabth8WF5NxtFcVGuY7UHWJKU0cBbqLf3HsuRLnavSqid24SWw9duisQ1NhETZ2yfxQWO/qo6aJbeUUoLm3Ee38mC5NJL05+ESm8FIQm+Fnx6/W856Qd+EC0cUYonkPEooSs166uGCuqaxDasJfF5hSTMOk2iI9f+lSsOnJF6E1p4szSp0SIFgFaUWvCWpFiMgldzjm1xomfE0zCZEoTB6a1Ey4KwrnNh+JAmrp2TIbTYm7/ykJRyos2U7aIBEMp1mtDa5nVWwrioDTETtahFynXrwudTpd9xIkfnwoWWhTh2XumOKlXMXcJKuJCTexkH1dWTxBhWq0I6jdQtHPJP/ErqI6a+VfliyVhlzTTX4lfAYs9qtownBYze5YXvi1Hislj2wjnfBI/VX6fuk8s/3qTiMmOAcPpOaKvlyLAWUS8v1ekqYivB/koKH7u/zN+5vP88lo3GoW3pnOPnnRp25CGfT7joAnQb+HN9mGE1u/HZ/uMoN/MW+3DaNB7Mp9/NJhWDZvTqVsXIhq3Zsjs/aTdafQWxxY9Q/t6YbTs0IkOrRtQOyiIoKBg6gyZywlbD1bYe9Fo2Ad89mIEbmQQ/fMKtumyioyxK3mjZyPqNmlPtx5dadsojGYD/stvd63VG2OW858uDQlr3oFu3TvSIrwpfabvw3jveAob/4186gKm8+t4f0BT6oa1onP3HnRt14TQBp2ZuCSKW1AEGxWRnHZ7vcaHE3vTul1Xeo2exQGjSpuoqCOBtEP7OXDLijasLe1CXQF7qrVpQwMnyLxyklMX8jqvxtUVN40CxrOciLqGBT0Xzp7nplWhQmgINRwA9w68MG0CPUI9sccBv6b1qZm9pVPW3k5mdAnx6DLBPjCEOh4ADtRs2oxgLaRHR3PaqKYdsCRtZ8vv16FCV0aMaY2XXenVa0trmdVbBilO7GRhj7ObG+7u7ri7u+Ok28gPv5wjQxNA5JC+1LBXMXf2tuNCTewAYDjAgk8XE1OhGy9MaItHfu/KhdSxPf8qfbEk7GLz4TiVbdj50O2drfy5aQ5jG1UiH7dX5/dODYgc1o4aztknOTrgWA5QHPHyqkQ5FfFVFrnviZ/hj3m8O3snybVGMGPFGlZ8NZWhoS5YrQAWrJasfy2ZAFaEFTKi5vP6B/vx6DqCQRHV0abHsWbaLFZnJxHms0t5f/I3HHPvzTvfreD7DwcSolXQ1urB2EHN8VF14XMitGNHwh3BmhJNTJwRTFEsfPl5pm+/TZPxX7Lil+/58DFfLq2dysT/biQZwHSUeS89z6wdiXg+8iSvvzuZse2cOH7kLIY84yls/HnrYjrBwonj+HB1LM6PjOHtT/7LlBHNcE3cydyJLzH3kFG1jYpOdrunFvPB3BgqNO9As2AvXMxqbKKijgQwcSXxCkYr2FeujLc261V770pU0iiQqeOaLu/82VV7lKeebIRb+gGmD+3OwBGDGPreb2TUHsy7kx4jIM/Fy4Ju30GOGQFtNVq3CsMZe1xdXNAoYL4UR1z2M1EWO3scAGt6Gmn6e/vOrx0wxZ0lVm9FU95E1Kxn6N/5EVpFdGXQizPYcsFUqvTa2dBa2uz7z+gtCxQvdvJi4NDSb9mSbMUxbCBDu1bGrshzl39c5KagOmZif/iMOX9Ci3GvMLRafpNVeB3b818cXywBu5hO8eOkYQweOpJnJn3Ckt3xmFS34UC1+vULfe9W6/eWq/v5ZfEiFnz5ES89+R4/X1fwbf88z0T6k6kivsoiRfrljpLAcjOV5ExA40Sl4Kb0qNOF3sOzCwt4INeqeNP7o1UsGh+O8+XveaLFUyxLO83psxng44TpbAwnbyp49RvG+IG9cdXb8+fClZzN8CNiQCs8VWrTeFakoh2QeZvbRoHx6K/8tEOHJmQir78zmvauYPKLZ/Pa1/lz23YOG3ryyNFfWb77BlR+jLcWzmJUgB3wPK9eFnjyp/rx69ex5J66xiOrWPr7NfDqx5tfzeSJ6nZg7kr5xAgmbdnP2o1RPFdbnY2Ki9VqT/gzi1jxSS/87MC4byov2LJJlG27dc57ZXwIsWK4bcQK2NlnXfgAsNOi1QK3TZjM1ryn2XnT/Z15TL3Yl4mrTrB22QnQVKZ97wG0DcrnLefaNj6fvoKETA1+/SbybJeKAFRsHkGE50rWxszj6W4xNPTSE3v4AGfTAfu83RbUjjUtjVQrZJz7lS++rExQkBfplw5xaP9Odp4RbFz1YqnRa91kW2u4Q+mx7z+ht2xQzNi5F91mvv/hEAbK03nYYFq6Zr1clLkraP7V1LFc3cDMGetIrjWGOU81xznzVN5zbdVRcT0oqi/+Lbso9tg72KHRpHBm11YOpd4iwwrfzF/Krnkr+ayoWgpC5XXQeOxHJj87m7OZAApa35Z079YYXyd1167wMrhifn9X/MqBc6s+DG5QnozDc3i8RSMihkzmuwO6wr9FqvEhrEEt3AC7CgH4V9GANZ2MDAGAQ0AgQS5WdDt/4quVm/llwVJ+i7fiVKM6/kVwpMwbqaRaAI077q52pJ8/y5kMyLy0nBfaNqZx48a0GjGHY+mQqUsh1QKG83GcyQDH2uGEV8n5JOZB1aoV8u2jKOM3xMVyOgMcQxrSwCe7bftqhIX5oyGDiwlXyFkctGWjYqMNoVv/jvhld6/GJmrqSAAU7LXarCA0m8nIeVlkr/oqTjg65BOixlMsfu5x3vg1CZ/245n69ihaeN5gx6fDGfDqSi7dbd9bR1nw4vPMPmLEqd4TfDxtBLWzY8K+9kimzX6dAc2rYTm/j/3nrIR070KIIyiOWTGgpp0cNP6DmbM/mhMHD3Nw5as0c7RyY88Gfos6Wur0Fqj1jKlU2rfE9JYZihk7uTBz5udv+fl8JhqfngzpF3In71A9dyriouA6Jo5+M4Mf4rzo8/yztHU1YjJbyLpiC4QlE4uaOirmv0i++HftYk1hJ5kAABR9SURBVFeDMd+f5/r1a1xJvEr88ZW82qYiGE7x47yfOF29KFoKQaXfuzZ7hq9+XcvqFYuZ8UpPqqfuYeGkQQx+cz3Xsz8bFBpfZZASWvFzwskBwEJaWiqZ+N+5J5956xZ6C2DnhJOLHXaVu/PBqrWEL/iKxUt/4Y+VnzJubxwZm79jtI+63sqVy/pXZOc09t71CA/W8tuRFbwx7CesVgX32pFMnjycuqqzdTMX/txNVDpofEKoHeSAOGPFCmiqNKDrow0pX+6OAuy9WtDMESyZFrACVoGKz5fYVSlg/L8MzVPXarXm27bVagEUNPYayuU5K1vhPTYqKYTFtk3U1JEAaKhUsSJ2gOVGCrpMCLADsy6Z6xlWsPfB1zvvJxfd2um8++MpzGEvMmfJf+nsCU+29iIy8hMOL5nPz0/3ZGKYAxhPs/SVJ3l91QWU4AF8vHAa/avf3Z4Ttfq8xfd93rrzin7rq7T+CRxrBhOYs1Bsox3F1RV3Ba4Idzx9spYGPMLrU8dNYf+tm1zeMJNZpUSvLa2pN62lyr4lqrdMUbzYyYV+H0u+/Y0bVi2h/YfS0+/uhEPF3Nmcf1t19ESfOM6tzDSWjwtj+bi7T9zMyw1rceSb32hvo86ece3YY3P+VfpiSdgFsHNyJeu/dnjU7MLwPo2ZvXMLpsuJJJmd6K5WSyGo9nuPmrTqVDPrpN4d8bzWjFHfXiF65ToOdCpvM77KIiWT+Dn4EVSzEprtCRxavYJ9j9ejjRdgucaules5ngGO9esQ4pZV3d67GcOmNGPY+JG882hvpu3fyd5j6aoTv9xYSFy7gEVHFJq/sYYZHey5aedFrfqheKu+y2Ek/vdZvDF9CylWLXX69KVdRXDyr0Z1LZzMrEKrcVPo65X3TEPVqvhq4Uz0Pg5cNNO4lj0YL7D7sIlG4fn3lu/4ox7L81yIi78/AVo4FXOAg/FmGgfbg+Ek+w/Gk6k4E1YnBAdOF8FWfx81NjGqqCMBsMOrdm1qaOFE9H4OJphpHKSQuHsPR4zgWK8h4dXsAT0xG5awIUZD/T6DqBx/iZRMsPerQZBHVkuedWpTw0nhoPE2+ttWsCSw7q3RvPhtNObAfny6eBZjwt0Kl2OK45clazib6Uzjju0JdUBVOw6BgQQ5KZy4EUVUtJHeTZ0wnTvH+dtWFAdf3EwJpUZv4Vr98fcXJO0vPfYtMb1ljuLEzgg6BuYkXRaSNnzL0mPpKC5tGDK0DR6FdXfv3GkSWPeajfm36SNOVG/UjW43U7HmfEC36Di54wiXqUL9iEeoXcXDRp2WVM5ILPr85+eLJWEXB8B0jcS08vh4ZTdqSeZUzAXMgNbfD9978/ECtRTaMUkqroOW5FjO3PahTkD2vWrLLW7eNGctTLg5424zvrRqxDxwlNCKnwfth4yi+U9T2b3nYwZ22k+nZn6IS3vZsvMMBqU6/2/v3uNjutYGjv+yM5lJJhe5SiIEEbcIibuqqCLuCdoq1Uqp1tHbUaqlR/VGWz30oDh1qVvRnpZDSzVt9ahSFC2a0CKCiFuFJMbIZCeZ2e8fSZD7SMOLPN/PZ/7IrDV7PWvtvZIne89ee/CTQ2jlAudXjCTmcyOxfVtRKyeBnSk5KC6RhNSt7AA7YvD2wVuXza5/DWfI2kBquBpx96pNWOfBjB4dS9NSfx9b+GXRKAZ8AVfOJ5GYeBqTTcGv0ximjY/O/15gm74MbD2fxJ2reOVxHb/3aoqnNZ2TB38mMeB5Pp/aA7f2/YgNX8SMvfG8MWQQe6NqYdobz5aASexZXDKTLbP/wTrOFatrbBfLwNYf8fvOeKbEDSepe33UhA18ujMLXehIhsXUx+lWJ372jIk9dW5p1Lcvl7YxPNB2AQe2f8O7I0ZwoIWNfeu/JA0/ouMepr0LkLWTj14ez5wjCu3M4axp14w6+i0kfT+L515Io3uIjtNbP+HrS+DcvDNRYS5Ydi/hnYV7uGRT8HZI4fOXBvJ5QZsOHl35x8eT6Jq7lnGDl5HRrBm13XI4s/tr1m07ga7xSF54vA0uYN92ArvSu7sfG/67i7ljRnGpmz+p363ipyw9IU8MZfC9O1g7+8fbI97Fj5QT62D61Dbi2uw2Gt8qivduVJm503Fy+/wzUbmHWb18PafyFHxjh/Jwi2LZRnr5+47db1e4/+85YMcxMnYFncZea9Z6dilDm4/mtC2S4XOW82xDJ+hSXp2VPHpsAv/7eFv5+7+C/lw9Qv7iuLgAlv0LGTJkLW5RHWjoo+Ny0ja+/l8SObpgBg4bQNiVtYzrV1EsJra8/wIL9mSRe24fKmBL/pI34xKpEdCDCf8cQbA983TrXAaM3ERQ53tpHuSM6dCPbNyShk3xoOUDsdwTEsSZcufXXXlnVBUt4KyqmqpmagfXTNYGtQ7UnJWCBRsVvebTtKf23PxtV9fHydj8thZd371gUUZF09dsrT36r8355Rlfac830muKsaP2xk+mkj+rqqZm/qBNauOsKc4R2sub8tfoy9jzgTawnk7TB3fUBgx+WHsw9n4tzE+nobhq7V/dUnT9OPNBbW6sn6YriFFR9Jq7Xz2teecHtWffW6Pt/bNovy7u/Vgb27ORVkMpWHwTRXOu2Vx7aNa1xR3PbZ+njexQq6DfiuZcq732+Ie7tMxS4i+z/xdK6auqahf2LtfGRIdqHlfH1FWr13mUNm/bmfw6do5RqS/TDu2tTq6aovhoQ5acKlpW2nZvYEzsqVNdXhXNnQu7F2pP3ROo6QuPSY+GWp8Ja7TfC9esMu3QpnT20BTFT4udc1AzZ53Qvpk2RGsT6Hx1cVNFqaGFdntam7/jnKaqqpa5eZLW1rVw7IstxlpzmLbyrKqpF+K1ie38rrWr99PCY17Ulv+SdjU2u7ajqprpwCfa2O4hmnvhtoy1tY5PzNZ+OJWlqbdZvOXGqqp3Zbx36qvK507huG+drLV3RlOcm2rPrDtTctsV7Dt79pu9c6fIK3WxNthH0ZQaMdqcQ2U8SKB4HXv2vx3HYlWMi6qqWtbhldrT7YI016t/s3SaV+No7Zl5P+b/nbcrllRtyRCfq/25/qVvOlaLz7DvuDcf+kwb36Ox5q279nfIWKu1NujV1Vpiph2/u26DOXAz5o9DQWGFDAYDqmrPFx1VLqYkk3ohG8catWkQWrPkre25GZxMOkFajpFaDUIJdL+WVVstJi7nGfB0N5T6c+F7plwnPDxccCSNz55sy/BVeQxatIeljwXiSC4HZ8YSNXELjg8v4vcVj/HXrjZaMZ0+yvE/zWD0o079YLxLnI42c+5IMmcsRoIaNsTfWHp/yut/qXXzP0BG6lFS0lT0PsE0rOtd5OaniseoHOplMiyOeHgaS9QrOx57x8SeOnc/++aOmXOHj3LK7IhvvUbU8yk2UFlppKYr+Nb2ufbfuSWNY8dOkZ7tiEet+jQIdC9/X5fR7p9Hj3HaBB5BoYT6/5W7QFXSjh8hNQNq1AmlgV+xM023VbwVxFpt47293LS5A6iXM8jCiFepv9/yt1t1c8N+uVmZXLG54ulW9ncUS61T4f63rz9VMy65ZKQe42TaFRzcalG/QQDujje6DTvZcdybzx8j5XQGOQZfghvUpfghYtf8ugOVNX9uQuJ3q/3JJ8PbMPLTTOpGP8XIfk3xyD7O98vm89VhV/rO2sSnf2tyQ3eJC1GVbt+5I8TtTeaOEJVX1vy55ev4VT1/BkyczZG82Xz2/SJe25QDiit+ze7lqRnjeflJSfqEEEIIIeCuOON3nVwz6RlXsOo98PO8O07VijvfHTF3hLgNydwRovLu4jN+13Fyw7um3C8qhBBCCFGaW/6sXiGEEEII8f9DEj8hhBBCiGpCEj8hhBBCiGpCEj8hhBBCiGriJt3cYcViuoLm6oGxcCVF9TeWTZzBt+n1eOj113gw5CYtsmJNY+9XG9iTEUinAb1pdvVBgyYS18zhwzW7SM3xotWjz9JXd4B9JerdqniEEEIIIW6tKk381JM/snT2XFau38K+U2ZwC6ZVt4GMHPciw8JOse/rtaw9F0HjUf+4aYmf9ex6pj35HF+afRnu8TsLHsh/UG/Wjlk8M+pddlt0eNRw46S/LwfW/JuvitX7SywXOXXegrFmbbxdyo9HCCGEEOJWq7LEL/fEfxk/aDQfJZhA70P9iDbUuHKChC9n84prKwbMdq2qpsrlWKMpUX27cikzlE5N9AXvqhzd+RMHroB3/5nsWPUovhf3sMxyCHORen9FFpvf7E7/mcdoMekbvn/tHlzKjEcIIYQQ4tarosTvPBunT2ZJggklOIapS+fxXCd/nDBxJH4JS44FosdU6idz049x4I8ULmY74lm3Kc1D/Sj6GD0rmSd+IyE5Hc09mLCIRvgZyilzb8+I9+bSJ9uNwLr5FS3p5zl9PgMbCl7+XnDeDAH3lqiX7zKpCQkcvaDh3TCCiDpFz9CVFa8l/QIZV1Rs2FDNGfx5+izuXoH4lBJPwZa4mJzAwZRMbC4BNG7ejMAiSxBaMZ07yUUHP+r7u5F1KoFfkzJwqduCliFed/wzOIUQQghx61XJzR3WU1+zet1x8hQP7v/7lIKkD8CDRr1fYNqzUZR4BHPuEVa/2JPmjZrRoWsv+vaJJiqiBZ2fWkpiVmGd43wxsRetIu4luk9fetzXkpb93+cXtZyy9E1Mvj+csBYP8P4uC+QeYcnjEQyYlUA2eSQvHEqTRl14feP6ovUAy6HVvNSjJeHtu9Krdzc6RLSl/8xdWCqK99IfLHwskqELk8kjh8TZA2kcEsaQf/+Gat5Uoh31+EamDGpLs/CORPfuQ88ubQiLjGbsqkQuF46P+Tteuz+cyJhJzJo2hI4t29O9Vw+iWt/LI/N2l5FGCyGEEEKUrUoSP/WPAyRctoFzOJ06htj3bFz1CNu+PU29B17ivXkLmf/+s9znZ2L/J++w4PtMALK2LeDNeVu52CiO2Ws2sGbRVIaGuWKzlVdmxWYFsGLNAxQvmnQdSv82fuhQ8I7sR1xcf1oHOBStp+5nwbi/M/fHs/h0eoJX3pzEqC4uJOw7SlZF8f7gSFj3R+gX6Y2CDr82scQNH0r3MF90FItHPcDisaN5Z30Sxk5P8vr093g1rh1uZ7cyf+w45v9qKRggG5oNchIX8srbu/HsGcfgqHros5PZ8O5c1p+1VsWuE0IIIUQ1UiWXeq2XLnExDzB44elt5ybdevPOz91wcyt8pm4mrvv+w48rL3Ii5Ry5eGK9lJm/XZ0LvqFt6dO0BzGP5de+XFaZeSOrrm/H0Y9uY6djyNjDt79cwjdqNLNnRGM0b2T3ddUsv37J6u3pUPMhXls8l+HBjsDfefm0hk9F8aba6DJuOpzZynf7swjqNoYP3uqEC4B5f5FuW/at45MfzoPfA0xe9AEj6jlCbk9qnI1iwqbdfPVNIs+1bkdhKzYlgJhp61j6bATG0ysZ0eEpPjMd5vDRHAiU5xELIYQQwn5VcsbPwdkFowJYzWSZ8+z8lCN5qZv58LXneXxQDL2iH+SfP1wBIC8v/2yWsWN/hkTWIGfvhwzr0IqoRyaxYk8a1grKKiPreDJHcsC5cQQR/oXfoPMkKMjL7njtaic5icM54NykJZGBBe041SU8vA46ckg5dYYiI6gLJDyyEe6Ao1cwdfx1YMsmJ0erZE+FEEIIUV1VSeLnVLceIXog+w/277cv+cpNWspzMQ8zbuZGTjiHENm+A+FBRe96dfTvzdvrvuKjyXFEBZnZt3YGox9+nmVJuWWXJVcu9bPmWcEG2DRslYzXHjabrdR2bDYroKBz0uFQzucdCgo1yfuEEEIIcYOqJPEzNLqPbq1cUWwX2DB3Ol8czbpaZjocz8LPdmMu9pmL27/j29N5uPacyIpls5k2dTz9mpa8dOkU0I5HX13Ed9vXMaGDkbxzW/n5t+yyyxJzKtUHt6Agaukh+49d7EnJzX/TcoLt2w9jsTNeB8UBsGGxWCgrL3OtU4dgPWQf2sMvqQXtZB1k9y+p5ClGwps2KXZXsxBCCCFE1aia5VwMkQx/6Sm+TPiAX/cvJK7zZua1bYxnTir7dyVwudeH9O/rV+Qjzj4+eCpw5rd4Fi93ITD5C+auTsPGtWTq/IqRxHxuJLZvK2rlJLAzJQfFJZKQuvqyy4J1nKtEF4zt+xEbvogZe+N5Y8gg9kbVwrQ3ni0Bk9jToTHuFcbriH9AADoOk7z6LZ7IWEVwl0m8PaBYO+1iGdj6I37fGc+UuOEkda+PmrCBT3dmoQsdybCY+vbdHCOEEEIIcYOq6Fm9jvj3eotVK6cQF1UXY8ZRtn+zgY1bknBoNogX4+7HV9HjpFdQFAMGvYJn92d4fXgbvM58w7SnRzHhPya6DutFoC7/cieAW0hT/JI+ZeqY0Yx+aT47rBE8MmUqT7YylF3W0rVIO4Wc9AYUBfROBWlVsXhw78y4OdMZ0SEAyx/xLJ+/lPhTdYjt3QZfR+yI10CTgX9jeBsfbGd3s27VtySbS2nHeA9j5s3h+eh6qPvWMOe96Sz8NhWfTqOYuXgKD9Z2LD0+AAcd+qvvlXdBWAghhBCiJAdVVe36tpjBYEBVVTtqWjGdPcbJ8xacfIIJqe159QyW1WLicp4BT3fD1bqZJw9xPN2RgAZNCHTPJcuUjYOH+7XzfrkZnEw6QVqOkVoNQgl0v27p4jLKSrYDoHI5U0Xn7oGLY1nxAJg5dySZMxYjQQ0b4l9kAUJ74k0n5UgqJkMgDUJrYiyznVwyUo+Skqai9wmmYV3vEmf6Svuc1WLClOuEh4eLLOJ8h7B/7gghridzR4jKK2v+3ITETwhxPZk7QlSOzB0hKq+s+VNFl3qFEEIIIcTtThI/IYQQQohq4obu6jUYZKERISpD5o4QlSNzR4iqVcF3/GSVYCGEEEKIO9u1lUDkUq8QQgghRDUhiZ8QQgghRDUhiZ8QQgghRDUhiZ8QQgghRDUhiZ8QQgghRDUhiZ8QQgghRDXxfxx7BZNwGQxGAAAAAElFTkSuQmCC)"
      ],
      "metadata": {
        "id": "12q9cmyBIfIC"
      }
    },
    {
      "cell_type": "markdown",
      "source": [
        "#Summary"
      ],
      "metadata": {
        "id": "hBVzyzmnI-Ay"
      }
    },
    {
      "cell_type": "markdown",
      "source": [
        "The task of this machine learning project is to train the model for accepting or rejecting a loan. Now there are 3 models wherein we can train the model and test it to predict whether other applicants could get loan or not. \n",
        "\n",
        "First model is about using logistic regression model for which the accuracy is 0.8373 and accuracy using k-fold \n",
        "cross validation comes to 0.8024. \n",
        "\n",
        "Second model gives 0.6910 accuracy and 0.7148 \n",
        "accuracy using k-fold cross validation. \n",
        "\n",
        "Third model gives 0.8292 and 0.7922 as \n",
        "accuracies. \n",
        "\n",
        "Among all the models, Logistic regression gives better accuracy. This Logistic \n",
        "regression model has been trained with a datasets and tested with another dataset."
      ],
      "metadata": {
        "id": "RUjXE0nYJCs3"
      }
    }
  ]
}